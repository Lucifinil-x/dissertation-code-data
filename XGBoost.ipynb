{
 "cells": [
  {
   "cell_type": "code",
   "execution_count": 99,
   "metadata": {},
   "outputs": [],
   "source": [
    "import pandas as pd\n",
    "import matplotlib.pyplot as plt\n",
    "import seaborn as sns\n",
    "\n",
    "from sklearn.model_selection import train_test_split\n",
    "from sklearn.linear_model import LinearRegression\n",
    "from sklearn.metrics import mean_squared_error, r2_score\n",
    "import pandas as pd\n",
    "from statsmodels.stats.outliers_influence import variance_inflation_factor\n",
    "from sklearn.model_selection import train_test_split\n",
    "from sklearn.linear_model import LinearRegression\n",
    "from sklearn.metrics import mean_squared_error, r2_score\n",
    "from sklearn.ensemble import RandomForestRegressor\n",
    "from sklearn.model_selection import train_test_split\n",
    "from sklearn.metrics import mean_squared_error, r2_score\n",
    "from sklearn.metrics import accuracy_score\n",
    "from sklearn.metrics import r2_score\n",
    "import numpy as np\n",
    "from sklearn.model_selection import validation_curve\n",
    "from sklearn.ensemble import RandomForestRegressor\n",
    "from sklearn.model_selection import cross_val_score\n",
    "\n",
    "import xgboost as xgb\n",
    "from sklearn.metrics import mean_squared_error\n",
    "\n"
   ]
  },
  {
   "cell_type": "markdown",
   "metadata": {},
   "source": [
    "Unnamed: 0 是由于在读取数据时，DataFrame默认将索引列也作为一个列进行了保存，因此产生了这个名为Unnamed: 0的列。通常情况下，这个列对模型的训练和预测是没有影响的，因为它只是一个索引列，并不包含任何有关预测目标的信息。"
   ]
  },
  {
   "cell_type": "code",
   "execution_count": 100,
   "metadata": {},
   "outputs": [],
   "source": [
    "df = pd.read_csv(r\"D:\\s-casa毕业论文-工程\\R5R_TEST1_london\\Test2_onmypoi_data\\mergeResult\\housing_accessibility_3614.csv\")\n",
    "\n",
    "# Define a function to detect outliers based on the IQR method\n",
    "def detect_outliers(df, feature):\n",
    "    Q1 = df[feature].quantile(0.25)\n",
    "    Q3 = df[feature].quantile(0.75)\n",
    "    IQR = Q3 - Q1\n",
    "\n",
    "    lower_bound = Q1 - 1.5 * IQR\n",
    "    upper_bound = Q3 + 1.5 * IQR\n",
    "\n",
    "    outliers = df[(df[feature] < lower_bound) | (df[feature] > upper_bound)]\n",
    "    return outliers\n",
    "\n",
    "# Use the function to detect outliers in 'Price_per_square_meter'\n",
    "outliers = detect_outliers(df, 'Price_per_square_meter')\n",
    "# Keep only the rows in df that are not in the outliers DataFrame\n",
    "df = df[~df.index.isin(outliers.index)]\n",
    "\n",
    "\n",
    "\n",
    "# Perform one-hot encoding on the categorical variables\n",
    "df_encoded = pd.get_dummies(df, columns=['property_type', 'borough'])\n",
    "\n",
    "# Define predictors and target variable\n",
    "X = df_encoded.drop(['price', 'address', \n",
    "        'lat', 'lon', 'Price_per_square_meter', 'id'], axis=1)\n",
    "y = df_encoded['Price_per_square_meter']\n",
    "\n",
    "# Split data into train and test sets\n",
    "X_train, X_test, y_train, y_test = train_test_split(X, y, test_size=0.2, random_state=42)\n",
    "\n"
   ]
  },
  {
   "cell_type": "markdown",
   "metadata": {},
   "source": [
    "'n_estimators': 100\n",
    "\n",
    "Train RMSE: 758.1720554498072\n",
    "\n",
    "Test RMSE: 2470.2612134708056\n",
    "\n",
    "Train R²: 0.9807382746297026\n",
    "\n",
    "Test R²: 0.7979608884797488"
   ]
  },
  {
   "cell_type": "code",
   "execution_count": 101,
   "metadata": {},
   "outputs": [
    {
     "data": {
      "text/html": [
       "<style>#sk-container-id-6 {color: black;}#sk-container-id-6 pre{padding: 0;}#sk-container-id-6 div.sk-toggleable {background-color: white;}#sk-container-id-6 label.sk-toggleable__label {cursor: pointer;display: block;width: 100%;margin-bottom: 0;padding: 0.3em;box-sizing: border-box;text-align: center;}#sk-container-id-6 label.sk-toggleable__label-arrow:before {content: \"▸\";float: left;margin-right: 0.25em;color: #696969;}#sk-container-id-6 label.sk-toggleable__label-arrow:hover:before {color: black;}#sk-container-id-6 div.sk-estimator:hover label.sk-toggleable__label-arrow:before {color: black;}#sk-container-id-6 div.sk-toggleable__content {max-height: 0;max-width: 0;overflow: hidden;text-align: left;background-color: #f0f8ff;}#sk-container-id-6 div.sk-toggleable__content pre {margin: 0.2em;color: black;border-radius: 0.25em;background-color: #f0f8ff;}#sk-container-id-6 input.sk-toggleable__control:checked~div.sk-toggleable__content {max-height: 200px;max-width: 100%;overflow: auto;}#sk-container-id-6 input.sk-toggleable__control:checked~label.sk-toggleable__label-arrow:before {content: \"▾\";}#sk-container-id-6 div.sk-estimator input.sk-toggleable__control:checked~label.sk-toggleable__label {background-color: #d4ebff;}#sk-container-id-6 div.sk-label input.sk-toggleable__control:checked~label.sk-toggleable__label {background-color: #d4ebff;}#sk-container-id-6 input.sk-hidden--visually {border: 0;clip: rect(1px 1px 1px 1px);clip: rect(1px, 1px, 1px, 1px);height: 1px;margin: -1px;overflow: hidden;padding: 0;position: absolute;width: 1px;}#sk-container-id-6 div.sk-estimator {font-family: monospace;background-color: #f0f8ff;border: 1px dotted black;border-radius: 0.25em;box-sizing: border-box;margin-bottom: 0.5em;}#sk-container-id-6 div.sk-estimator:hover {background-color: #d4ebff;}#sk-container-id-6 div.sk-parallel-item::after {content: \"\";width: 100%;border-bottom: 1px solid gray;flex-grow: 1;}#sk-container-id-6 div.sk-label:hover label.sk-toggleable__label {background-color: #d4ebff;}#sk-container-id-6 div.sk-serial::before {content: \"\";position: absolute;border-left: 1px solid gray;box-sizing: border-box;top: 0;bottom: 0;left: 50%;z-index: 0;}#sk-container-id-6 div.sk-serial {display: flex;flex-direction: column;align-items: center;background-color: white;padding-right: 0.2em;padding-left: 0.2em;position: relative;}#sk-container-id-6 div.sk-item {position: relative;z-index: 1;}#sk-container-id-6 div.sk-parallel {display: flex;align-items: stretch;justify-content: center;background-color: white;position: relative;}#sk-container-id-6 div.sk-item::before, #sk-container-id-6 div.sk-parallel-item::before {content: \"\";position: absolute;border-left: 1px solid gray;box-sizing: border-box;top: 0;bottom: 0;left: 50%;z-index: -1;}#sk-container-id-6 div.sk-parallel-item {display: flex;flex-direction: column;z-index: 1;position: relative;background-color: white;}#sk-container-id-6 div.sk-parallel-item:first-child::after {align-self: flex-end;width: 50%;}#sk-container-id-6 div.sk-parallel-item:last-child::after {align-self: flex-start;width: 50%;}#sk-container-id-6 div.sk-parallel-item:only-child::after {width: 0;}#sk-container-id-6 div.sk-dashed-wrapped {border: 1px dashed gray;margin: 0 0.4em 0.5em 0.4em;box-sizing: border-box;padding-bottom: 0.4em;background-color: white;}#sk-container-id-6 div.sk-label label {font-family: monospace;font-weight: bold;display: inline-block;line-height: 1.2em;}#sk-container-id-6 div.sk-label-container {text-align: center;}#sk-container-id-6 div.sk-container {/* jupyter's `normalize.less` sets `[hidden] { display: none; }` but bootstrap.min.css set `[hidden] { display: none !important; }` so we also need the `!important` here to be able to override the default hidden behavior on the sphinx rendered scikit-learn.org. See: https://github.com/scikit-learn/scikit-learn/issues/21755 */display: inline-block !important;position: relative;}#sk-container-id-6 div.sk-text-repr-fallback {display: none;}</style><div id=\"sk-container-id-6\" class=\"sk-top-container\"><div class=\"sk-text-repr-fallback\"><pre>XGBRegressor(base_score=None, booster=None, callbacks=None,\n",
       "             colsample_bylevel=None, colsample_bynode=None,\n",
       "             colsample_bytree=None, early_stopping_rounds=None,\n",
       "             enable_categorical=False, eval_metric=None, feature_types=None,\n",
       "             gamma=None, gpu_id=None, grow_policy=None, importance_type=None,\n",
       "             interaction_constraints=None, learning_rate=None, max_bin=None,\n",
       "             max_cat_threshold=None, max_cat_to_onehot=None,\n",
       "             max_delta_step=None, max_depth=None, max_leaves=None,\n",
       "             min_child_weight=None, missing=nan, monotone_constraints=None,\n",
       "             n_estimators=100, n_jobs=None, num_parallel_tree=None,\n",
       "             predictor=None, random_state=None, ...)</pre><b>In a Jupyter environment, please rerun this cell to show the HTML representation or trust the notebook. <br />On GitHub, the HTML representation is unable to render, please try loading this page with nbviewer.org.</b></div><div class=\"sk-container\" hidden><div class=\"sk-item\"><div class=\"sk-estimator sk-toggleable\"><input class=\"sk-toggleable__control sk-hidden--visually\" id=\"sk-estimator-id-6\" type=\"checkbox\" checked><label for=\"sk-estimator-id-6\" class=\"sk-toggleable__label sk-toggleable__label-arrow\">XGBRegressor</label><div class=\"sk-toggleable__content\"><pre>XGBRegressor(base_score=None, booster=None, callbacks=None,\n",
       "             colsample_bylevel=None, colsample_bynode=None,\n",
       "             colsample_bytree=None, early_stopping_rounds=None,\n",
       "             enable_categorical=False, eval_metric=None, feature_types=None,\n",
       "             gamma=None, gpu_id=None, grow_policy=None, importance_type=None,\n",
       "             interaction_constraints=None, learning_rate=None, max_bin=None,\n",
       "             max_cat_threshold=None, max_cat_to_onehot=None,\n",
       "             max_delta_step=None, max_depth=None, max_leaves=None,\n",
       "             min_child_weight=None, missing=nan, monotone_constraints=None,\n",
       "             n_estimators=100, n_jobs=None, num_parallel_tree=None,\n",
       "             predictor=None, random_state=None, ...)</pre></div></div></div></div></div>"
      ],
      "text/plain": [
       "XGBRegressor(base_score=None, booster=None, callbacks=None,\n",
       "             colsample_bylevel=None, colsample_bynode=None,\n",
       "             colsample_bytree=None, early_stopping_rounds=None,\n",
       "             enable_categorical=False, eval_metric=None, feature_types=None,\n",
       "             gamma=None, gpu_id=None, grow_policy=None, importance_type=None,\n",
       "             interaction_constraints=None, learning_rate=None, max_bin=None,\n",
       "             max_cat_threshold=None, max_cat_to_onehot=None,\n",
       "             max_delta_step=None, max_depth=None, max_leaves=None,\n",
       "             min_child_weight=None, missing=nan, monotone_constraints=None,\n",
       "             n_estimators=100, n_jobs=None, num_parallel_tree=None,\n",
       "             predictor=None, random_state=None, ...)"
      ]
     },
     "execution_count": 101,
     "metadata": {},
     "output_type": "execute_result"
    }
   ],
   "source": [
    "# 创建XGBoost回归模型\n",
    "xgb_model = xgb.XGBRegressor()\n",
    "\n",
    "# 训练模型\n",
    "xgb_model.fit(X_train, y_train)\n"
   ]
  },
  {
   "cell_type": "code",
   "execution_count": 102,
   "metadata": {},
   "outputs": [],
   "source": [
    "def testResult(xgb_model):\n",
    "    # 预测训练集和测试集\n",
    "    y_train_pred = xgb_model.predict(X_train)\n",
    "    y_test_pred = xgb_model.predict(X_test)\n",
    "\n",
    "    # 计算均方根误差（RMSE）作为性能指标\n",
    "    train_rmse = np.sqrt(mean_squared_error(y_train, y_train_pred))\n",
    "    test_rmse = np.sqrt(mean_squared_error(y_test, y_test_pred))\n",
    "\n",
    "    print(f\"Train RMSE: {train_rmse}\")\n",
    "    print(f\"Test RMSE: {test_rmse}\")\n",
    "\n",
    "\n",
    "    # 计算训练集和测试集的R²值\n",
    "    train_r2 = r2_score(y_train, y_train_pred)\n",
    "    test_r2 = r2_score(y_test, y_test_pred)\n",
    "\n",
    "    print(f\"Train R²: {train_r2}\")\n",
    "    print(f\"Test R²: {test_r2}\")\n",
    "    #print(f\"params: { xgb_model.get_params()}\")\n",
    "\n",
    "    # 计算训练集和测试集的MAPE值\n",
    "    train_mape = np.mean(np.abs((y_train - y_train_pred) / y_train)) * 100\n",
    "    test_mape = np.mean(np.abs((y_test - y_test_pred) / y_test)) * 100\n",
    "\n",
    "    print(f\"Train MAPE: {train_mape:.2f}%\")\n",
    "    print(f\"Test MAPE: {test_mape:.2f}%\")\n",
    "\n"
   ]
  },
  {
   "cell_type": "code",
   "execution_count": 103,
   "metadata": {},
   "outputs": [
    {
     "name": "stdout",
     "output_type": "stream",
     "text": [
      "Train RMSE: 505.8649150808819\n",
      "Test RMSE: 1727.385703014799\n",
      "Train R²: 0.9691164957522815\n",
      "Test R²: 0.6109632834990357\n",
      "Train MAPE: 5.07%\n",
      "Test MAPE: 18.01%\n"
     ]
    }
   ],
   "source": [
    "testResult(xgb_model)"
   ]
  },
  {
   "cell_type": "markdown",
   "metadata": {},
   "source": [
    "删异常值263行\n",
    "\n",
    "Train RMSE: 467.7221846060159\n",
    "Test RMSE: 1613.3795934985558\n",
    "Train R²: 0.9794378771214889\n",
    "Test R²: 0.7447291802585059\n",
    "\n",
    "Train MAPE: 4.59%\n",
    "Test MAPE: 15.82%\n",
    "\n",
    "不删异常值\n",
    "\n",
    "Train RMSE: 594.5792650959186\n",
    "Test RMSE: 2580.873616298751\n",
    "Train R²: 0.9885621864051578\n",
    "Test R²: 0.7529165829591934\n",
    "\n",
    "Train MAPE: 5.25%\n",
    "Test MAPE: 16.86%"
   ]
  },
  {
   "cell_type": "markdown",
   "metadata": {},
   "source": [
    "---"
   ]
  },
  {
   "cell_type": "markdown",
   "metadata": {},
   "source": [
    "要建立一个XGBoost模型并减少过拟合:按照0.7、0.2、0.1的比例重新划分数据集，并训练XGBoost模型"
   ]
  },
  {
   "cell_type": "code",
   "execution_count": 104,
   "metadata": {},
   "outputs": [
    {
     "name": "stderr",
     "output_type": "stream",
     "text": [
      "c:\\Users\\84398\\AppData\\Local\\Programs\\Python\\Python39\\lib\\site-packages\\xgboost\\sklearn.py:835: UserWarning: `early_stopping_rounds` in `fit` method is deprecated for better compatibility with scikit-learn, use `early_stopping_rounds` in constructor or`set_params` instead.\n",
      "  warnings.warn(\n"
     ]
    },
    {
     "name": "stdout",
     "output_type": "stream",
     "text": [
      "Train RMSE: 686.7043609789099\n",
      "Test RMSE: 1902.1996051089238\n",
      "Train R²: 0.9560106243928561\n",
      "Test R²: 0.6443666723891286\n",
      "Train MAPE: 6.87%\n",
      "Test MAPE: 19.19%\n"
     ]
    },
    {
     "name": "stderr",
     "output_type": "stream",
     "text": [
      "c:\\Users\\84398\\AppData\\Local\\Programs\\Python\\Python39\\lib\\site-packages\\xgboost\\core.py:122: UserWarning: ntree_limit is deprecated, use `iteration_range` or model slicing instead.\n",
      "  warnings.warn(\n",
      "c:\\Users\\84398\\AppData\\Local\\Programs\\Python\\Python39\\lib\\site-packages\\xgboost\\core.py:122: UserWarning: ntree_limit is deprecated, use `iteration_range` or model slicing instead.\n",
      "  warnings.warn(\n"
     ]
    }
   ],
   "source": [
    "import pandas as pd\n",
    "import numpy as np\n",
    "import xgboost as xgb\n",
    "from sklearn.model_selection import train_test_split\n",
    "from sklearn.metrics import mean_squared_error, r2_score\n",
    "\n",
    "# Load the dataset\n",
    "df = pd.read_csv(r\"D:\\s-casa毕业论文-工程\\R5R_TEST1_london\\Test2_onmypoi_data\\mergeResult\\housing_accessibility_remove_outliers.csv\")\n",
    "\n",
    "# Define a function to detect outliers based on the IQR method\n",
    "def detect_outliers(df, feature):\n",
    "    Q1 = df[feature].quantile(0.25)\n",
    "    Q3 = df[feature].quantile(0.75)\n",
    "    IQR = Q3 - Q1\n",
    "\n",
    "    lower_bound = Q1 - 1.5 * IQR\n",
    "    upper_bound = Q3 + 1.5 * IQR\n",
    "\n",
    "    outliers = df[(df[feature] < lower_bound) | (df[feature] > upper_bound)]\n",
    "    return outliers\n",
    "\n",
    "# Use the function to detect outliers in 'Price_per_square_meter'\n",
    "outliers = detect_outliers(df, 'Price_per_square_meter')\n",
    "# Keep only the rows in df that are not in the outliers DataFrame\n",
    "df = df[~df.index.isin(outliers.index)]\n",
    "\n",
    "# Perform one-hot encoding on the categorical variables\n",
    "df_encoded = pd.get_dummies(df, columns=['property_type', 'borough'])\n",
    "\n",
    "# Define predictors and target variable\n",
    "X = df_encoded.drop(['price', 'address', 'lat', 'lon', 'Price_per_square_meter', 'id'], axis=1)\n",
    "y = df_encoded['Price_per_square_meter']\n",
    "\n",
    "# Split data into train, test, and validation sets\n",
    "X_train, X_temp, y_train, y_temp = train_test_split(X, y, test_size=0.3, random_state=42)\n",
    "X_test, X_val, y_test, y_val = train_test_split(X_temp, y_temp, test_size=0.33, random_state=42)\n",
    "\n",
    "# 创建XGBoost回归模型并添加正则化和早停\n",
    "xgb_model = xgb.XGBRegressor(reg_alpha=0.1, reg_lambda=0.1)\n",
    "\n",
    "# 训练模型并提供验证集用于早停\n",
    "eval_set = [(X_val, y_val)]\n",
    "xgb_model.fit(X_train, y_train, eval_set=eval_set, early_stopping_rounds=10, verbose=False)\n",
    "\n",
    "# 获取最佳迭代轮数\n",
    "best_iteration = xgb_model.best_iteration\n",
    "\n",
    "# 预测训练集和测试集\n",
    "y_train_pred = xgb_model.predict(X_train, ntree_limit=best_iteration)\n",
    "y_test_pred = xgb_model.predict(X_test, ntree_limit=best_iteration)\n",
    "\n",
    "# 计算均方根误差（RMSE）作为性能指标\n",
    "train_rmse = np.sqrt(mean_squared_error(y_train, y_train_pred))\n",
    "test_rmse = np.sqrt(mean_squared_error(y_test, y_test_pred))\n",
    "\n",
    "print(f\"Train RMSE: {train_rmse}\")\n",
    "print(f\"Test RMSE: {test_rmse}\")\n",
    "\n",
    "# 计算训练集和测试集的R²值\n",
    "train_r2 = r2_score(y_train, y_train_pred)\n",
    "test_r2 = r2_score(y_test, y_test_pred)\n",
    "\n",
    "print(f\"Train R²: {train_r2}\")\n",
    "print(f\"Test R²: {test_r2}\")\n",
    "\n",
    "# 计算训练集和测试集的MAPE值\n",
    "train_mape = np.mean(np.abs((y_train - y_train_pred) / y_train)) * 100\n",
    "test_mape = np.mean(np.abs((y_test - y_test_pred) / y_test)) * 100\n",
    "\n",
    "print(f\"Train MAPE: {train_mape:.2f}%\")\n",
    "print(f\"Test MAPE: {test_mape:.2f}%\")\n"
   ]
  },
  {
   "cell_type": "code",
   "execution_count": 105,
   "metadata": {},
   "outputs": [],
   "source": [
    "# import pandas as pd\n",
    "# import numpy as np\n",
    "# import xgboost as xgb\n",
    "# from sklearn.model_selection import train_test_split, GridSearchCV\n",
    "# from sklearn.metrics import mean_squared_error, r2_score\n",
    "\n",
    "# # Load the dataset\n",
    "# df = pd.read_csv(r\"D:\\s-casa毕业论文-工程\\R5R_TEST1_london\\Test2_onmypoi_data\\mergeResult\\housing_accessibility_remove_outliers.csv\")\n",
    "\n",
    "# # Define a function to detect outliers based on the IQR method\n",
    "# def detect_outliers(df, feature):\n",
    "#     Q1 = df[feature].quantile(0.25)\n",
    "#     Q3 = df[feature].quantile(0.75)\n",
    "#     IQR = Q3 - Q1\n",
    "\n",
    "#     lower_bound = Q1 - 1.5 * IQR\n",
    "#     upper_bound = Q3 + 1.5 * IQR\n",
    "\n",
    "#     outliers = df[(df[feature] < lower_bound) | (df[feature] > upper_bound)]\n",
    "#     return outliers\n",
    "\n",
    "# # Use the function to detect outliers in 'Price_per_square_meter'\n",
    "# outliers = detect_outliers(df, 'Price_per_square_meter')\n",
    "# # Keep only the rows in df that are not in the outliers DataFrame\n",
    "# df = df[~df.index.isin(outliers.index)]\n",
    "\n",
    "# # Perform one-hot encoding on the categorical variables\n",
    "# df_encoded = pd.get_dummies(df, columns=['property_type', 'borough'])\n",
    "\n",
    "# # Define predictors and target variable\n",
    "# X = df_encoded.drop(['price', 'address', 'lat', 'lon', 'Price_per_square_meter', 'id'], axis=1)\n",
    "# y = df_encoded['Price_per_square_meter']\n",
    "\n",
    "# # Split data into train, test, and validation sets\n",
    "# X_train, X_temp, y_train, y_temp = train_test_split(X, y, test_size=0.3, random_state=42)\n",
    "# X_test, X_val, y_test, y_val = train_test_split(X_temp, y_temp, test_size=0.33, random_state=42)\n",
    "\n",
    "# # 创建XGBoost回归模型并添加正则化和早停\n",
    "# xgb_model = xgb.XGBRegressor()\n",
    "\n",
    "# # 定义超参数搜索空间\n",
    "# param_grid = {\n",
    "#     'learning_rate': [0.01, 0.1, 0.2],\n",
    "#     'max_depth': [3, 5, 7],\n",
    "#     'min_child_weight': [1, 3, 5],\n",
    "#     'reg_alpha': [0.1, 0.01, 0.001],\n",
    "#     'reg_lambda': [0.1, 0.01, 0.001]\n",
    "# }\n",
    "\n",
    "# # 使用GridSearchCV进行超参数搜索\n",
    "# grid_search = GridSearchCV(estimator=xgb_model, param_grid=param_grid, cv=5, verbose=2, n_jobs=-1)\n",
    "# grid_search.fit(X_train, y_train)\n",
    "\n",
    "# # 获取最佳超参数组合\n",
    "# best_params = grid_search.best_params_\n",
    "# print(\"Best Hyperparameters:\", best_params)\n",
    "\n",
    "# # 使用最佳超参数重新训\n"
   ]
  },
  {
   "cell_type": "code",
   "execution_count": 106,
   "metadata": {},
   "outputs": [],
   "source": [
    "#testResult(grid_search)"
   ]
  },
  {
   "cell_type": "markdown",
   "metadata": {},
   "source": [
    "Fitting 5 folds for each of 243 candidates, totalling 1215 fits\n",
    "Best Hyperparameters: {'learning_rate': 0.2, 'max_depth': 7, 'min_child_weight': 1, 'reg_alpha': 0.1, 'reg_lambda': 0.01}\n",
    "\n",
    "Train RMSE: 342.73999873636814\n",
    "Test RMSE: 1705.9568860130194\n",
    "Train R²: 0.9890418366940535\n",
    "Test R²: 0.7139602554699078\n",
    "Train MAPE: 3.55%\n",
    "Test MAPE: 15.89%\n",
    "\n",
    "下面是用这个参数跑的xgb模型"
   ]
  },
  {
   "cell_type": "code",
   "execution_count": 107,
   "metadata": {},
   "outputs": [
    {
     "name": "stderr",
     "output_type": "stream",
     "text": [
      "c:\\Users\\84398\\AppData\\Local\\Programs\\Python\\Python39\\lib\\site-packages\\xgboost\\sklearn.py:835: UserWarning: `early_stopping_rounds` in `fit` method is deprecated for better compatibility with scikit-learn, use `early_stopping_rounds` in constructor or`set_params` instead.\n",
      "  warnings.warn(\n"
     ]
    },
    {
     "name": "stdout",
     "output_type": "stream",
     "text": [
      "Train RMSE: 478.0504415573823\n",
      "Test RMSE: 1896.699715851097\n",
      "Train R²: 0.9786815495686503\n",
      "Test R²: 0.6464202069099751\n",
      "Train MAPE: 4.80%\n",
      "Test MAPE: 18.73%\n"
     ]
    },
    {
     "name": "stderr",
     "output_type": "stream",
     "text": [
      "c:\\Users\\84398\\AppData\\Local\\Programs\\Python\\Python39\\lib\\site-packages\\xgboost\\core.py:122: UserWarning: ntree_limit is deprecated, use `iteration_range` or model slicing instead.\n",
      "  warnings.warn(\n",
      "c:\\Users\\84398\\AppData\\Local\\Programs\\Python\\Python39\\lib\\site-packages\\xgboost\\core.py:122: UserWarning: ntree_limit is deprecated, use `iteration_range` or model slicing instead.\n",
      "  warnings.warn(\n"
     ]
    }
   ],
   "source": [
    "\n",
    "# 创建XGBoost回归模型并添加正则化和早停\n",
    "xgb_model = xgb.XGBRegressor(learning_rate=0.2, max_depth=7, min_child_weight=1, reg_alpha=0.1, reg_lambda=0.01)\n",
    "\n",
    "# 训练模型并提供验证集用于早停\n",
    "eval_set = [(X_val, y_val)]\n",
    "xgb_model.fit(X_train, y_train, eval_set=eval_set, early_stopping_rounds=10, verbose=False)\n",
    "\n",
    "# 获取最佳迭代轮数\n",
    "best_iteration = xgb_model.best_iteration\n",
    "\n",
    "# 预测训练集和测试集\n",
    "y_train_pred = xgb_model.predict(X_train, ntree_limit=best_iteration)\n",
    "y_test_pred = xgb_model.predict(X_test, ntree_limit=best_iteration)\n",
    "testResult(xgb_model)\n"
   ]
  },
  {
   "cell_type": "markdown",
   "metadata": {},
   "source": [
    "---"
   ]
  },
  {
   "cell_type": "code",
   "execution_count": 108,
   "metadata": {},
   "outputs": [
    {
     "data": {
      "image/png": "[encoded data removed]",
      "text/plain": [
       "<Figure size 864x432 with 1 Axes>"
      ]
     },
     "metadata": {
      "needs_background": "light"
     },
     "output_type": "display_data"
    }
   ],
   "source": [
    "\n",
    "# 获取特征重要性数组\n",
    "feature_importance = xgb_model.feature_importances_\n",
    "\n",
    "# 获取特征名列表（假设你的X_train是一个DataFrame）\n",
    "feature_names = X_train.columns\n",
    "\n",
    "# 将特征重要性和特征名组合成一个DataFrame，便于排序和绘制\n",
    "importance_df = pd.DataFrame({'Feature': feature_names, 'Importance': feature_importance})\n",
    "\n",
    "# 按照特征重要性降序排序\n",
    "importance_df = importance_df.sort_values(by='Importance', ascending=False)\n",
    "\n",
    "# 取前十项特征\n",
    "top_10_features = importance_df.head(10)\n",
    "\n",
    "# 绘制柱状图\n",
    "plt.figure(figsize=(12, 6))\n",
    "plt.bar(top_10_features['Feature'], top_10_features['Importance'])\n",
    "plt.xticks(rotation=90)\n",
    "plt.xlabel('Features')\n",
    "plt.ylabel('Importance')\n",
    "plt.title('XGBoost Feature Importance')\n",
    "plt.tight_layout()\n",
    "plt.show()\n"
   ]
  },
  {
   "cell_type": "code",
   "execution_count": 109,
   "metadata": {},
   "outputs": [
    {
     "data": {
      "text/html": [
       "<div>\n",
       "<style scoped>\n",
       "    .dataframe tbody tr th:only-of-type {\n",
       "        vertical-align: middle;\n",
       "    }\n",
       "\n",
       "    .dataframe tbody tr th {\n",
       "        vertical-align: top;\n",
       "    }\n",
       "\n",
       "    .dataframe thead th {\n",
       "        text-align: right;\n",
       "    }\n",
       "</style>\n",
       "<table border=\"1\" class=\"dataframe\">\n",
       "  <thead>\n",
       "    <tr style=\"text-align: right;\">\n",
       "      <th></th>\n",
       "      <th>Feature</th>\n",
       "      <th>Importance</th>\n",
       "    </tr>\n",
       "  </thead>\n",
       "  <tbody>\n",
       "    <tr>\n",
       "      <th>54</th>\n",
       "      <td>borough_Hammersmith and Fulham</td>\n",
       "      <td>0.151422</td>\n",
       "    </tr>\n",
       "    <tr>\n",
       "      <th>61</th>\n",
       "      <td>borough_Kensington and Chelsea</td>\n",
       "      <td>0.127696</td>\n",
       "    </tr>\n",
       "    <tr>\n",
       "      <th>73</th>\n",
       "      <td>borough_Wandsworth</td>\n",
       "      <td>0.059923</td>\n",
       "    </tr>\n",
       "    <tr>\n",
       "      <th>47</th>\n",
       "      <td>borough_Camden</td>\n",
       "      <td>0.054694</td>\n",
       "    </tr>\n",
       "    <tr>\n",
       "      <th>68</th>\n",
       "      <td>borough_Richmond upon Thames</td>\n",
       "      <td>0.044608</td>\n",
       "    </tr>\n",
       "    <tr>\n",
       "      <th>5</th>\n",
       "      <td>Culture and tourismAccess15m</td>\n",
       "      <td>0.041435</td>\n",
       "    </tr>\n",
       "    <tr>\n",
       "      <th>72</th>\n",
       "      <td>borough_Waltham Forest</td>\n",
       "      <td>0.034286</td>\n",
       "    </tr>\n",
       "    <tr>\n",
       "      <th>52</th>\n",
       "      <td>borough_Greenwich</td>\n",
       "      <td>0.027372</td>\n",
       "    </tr>\n",
       "    <tr>\n",
       "      <th>74</th>\n",
       "      <td>borough_Westminster</td>\n",
       "      <td>0.024305</td>\n",
       "    </tr>\n",
       "    <tr>\n",
       "      <th>70</th>\n",
       "      <td>borough_Sutton</td>\n",
       "      <td>0.019069</td>\n",
       "    </tr>\n",
       "  </tbody>\n",
       "</table>\n",
       "</div>"
      ],
      "text/plain": [
       "                           Feature  Importance\n",
       "54  borough_Hammersmith and Fulham    0.151422\n",
       "61  borough_Kensington and Chelsea    0.127696\n",
       "73              borough_Wandsworth    0.059923\n",
       "47                  borough_Camden    0.054694\n",
       "68    borough_Richmond upon Thames    0.044608\n",
       "5     Culture and tourismAccess15m    0.041435\n",
       "72          borough_Waltham Forest    0.034286\n",
       "52               borough_Greenwich    0.027372\n",
       "74             borough_Westminster    0.024305\n",
       "70                  borough_Sutton    0.019069"
      ]
     },
     "execution_count": 109,
     "metadata": {},
     "output_type": "execute_result"
    }
   ],
   "source": [
    "top_10_features"
   ]
  },
  {
   "cell_type": "code",
   "execution_count": 110,
   "metadata": {},
   "outputs": [
    {
     "data": {
      "image/png": "[encoded data removed]",
      "text/plain": [
       "<Figure size 720x432 with 1 Axes>"
      ]
     },
     "metadata": {
      "needs_background": "light"
     },
     "output_type": "display_data"
    }
   ],
   "source": [
    "import matplotlib.pyplot as plt\n",
    "\n",
    "# 获取特征重要性数组\n",
    "feature_importance = xgb_model.feature_importances_\n",
    "\n",
    "# 获取特征名列表（假设你的X_train是一个DataFrame）\n",
    "feature_names = X_train.columns\n",
    "\n",
    "# 将特征重要性和特征名组合成一个DataFrame，便于排序和绘制\n",
    "importance_df = pd.DataFrame({'Feature': feature_names, 'Importance': feature_importance})\n",
    "\n",
    "# 筛选特征名以\"15m\"结尾的特征\n",
    "selected_features = importance_df[importance_df['Feature'].str.endswith('15m')]\n",
    "\n",
    "# 按照特征重要性降序排序\n",
    "selected_features = selected_features.sort_values(by='Importance', ascending=False)\n",
    "\n",
    "# 取前十项特征\n",
    "top_10_features = selected_features.head(10)\n",
    "\n",
    "# 绘制柱状图\n",
    "plt.figure(figsize=(10, 6))\n",
    "plt.bar(top_10_features['Feature'], top_10_features['Importance'])\n",
    "plt.xticks(rotation=45, ha='right')\n",
    "plt.xlabel('Features')\n",
    "plt.ylabel('Importance')\n",
    "plt.title('Top 10 XGBoost Feature Importance (ending with \"15m\")')\n",
    "plt.tight_layout()\n",
    "plt.show()\n"
   ]
  },
  {
   "cell_type": "code",
   "execution_count": 111,
   "metadata": {},
   "outputs": [
    {
     "data": {
      "text/html": [
       "<div>\n",
       "<style scoped>\n",
       "    .dataframe tbody tr th:only-of-type {\n",
       "        vertical-align: middle;\n",
       "    }\n",
       "\n",
       "    .dataframe tbody tr th {\n",
       "        vertical-align: top;\n",
       "    }\n",
       "\n",
       "    .dataframe thead th {\n",
       "        text-align: right;\n",
       "    }\n",
       "</style>\n",
       "<table border=\"1\" class=\"dataframe\">\n",
       "  <thead>\n",
       "    <tr style=\"text-align: right;\">\n",
       "      <th></th>\n",
       "      <th>Feature</th>\n",
       "      <th>Importance</th>\n",
       "    </tr>\n",
       "  </thead>\n",
       "  <tbody>\n",
       "    <tr>\n",
       "      <th>5</th>\n",
       "      <td>Culture and tourismAccess15m</td>\n",
       "      <td>0.041435</td>\n",
       "    </tr>\n",
       "    <tr>\n",
       "      <th>4</th>\n",
       "      <td>AirportsAccess15m</td>\n",
       "      <td>0.013643</td>\n",
       "    </tr>\n",
       "    <tr>\n",
       "      <th>17</th>\n",
       "      <td>Water transportAccess15m</td>\n",
       "      <td>0.013363</td>\n",
       "    </tr>\n",
       "    <tr>\n",
       "      <th>3</th>\n",
       "      <td>AccommodationAccess15m</td>\n",
       "      <td>0.008183</td>\n",
       "    </tr>\n",
       "    <tr>\n",
       "      <th>14</th>\n",
       "      <td>Road and railAccess15m</td>\n",
       "      <td>0.007976</td>\n",
       "    </tr>\n",
       "    <tr>\n",
       "      <th>10</th>\n",
       "      <td>Infrastructure and facilitiesAccess15m</td>\n",
       "      <td>0.006215</td>\n",
       "    </tr>\n",
       "    <tr>\n",
       "      <th>16</th>\n",
       "      <td>ShoppingAccess15m</td>\n",
       "      <td>0.006076</td>\n",
       "    </tr>\n",
       "    <tr>\n",
       "      <th>13</th>\n",
       "      <td>Public transportAccess15m</td>\n",
       "      <td>0.005619</td>\n",
       "    </tr>\n",
       "    <tr>\n",
       "      <th>15</th>\n",
       "      <td>ServiceAccess15m</td>\n",
       "      <td>0.005017</td>\n",
       "    </tr>\n",
       "    <tr>\n",
       "      <th>7</th>\n",
       "      <td>EducationAccess15m</td>\n",
       "      <td>0.004665</td>\n",
       "    </tr>\n",
       "    <tr>\n",
       "      <th>8</th>\n",
       "      <td>EntertainmentAccess15m</td>\n",
       "      <td>0.004452</td>\n",
       "    </tr>\n",
       "    <tr>\n",
       "      <th>12</th>\n",
       "      <td>OfficeAccess15m</td>\n",
       "      <td>0.004421</td>\n",
       "    </tr>\n",
       "    <tr>\n",
       "      <th>11</th>\n",
       "      <td>Manufacturing and productionAccess15m</td>\n",
       "      <td>0.004228</td>\n",
       "    </tr>\n",
       "    <tr>\n",
       "      <th>9</th>\n",
       "      <td>HealthAccess15m</td>\n",
       "      <td>0.003871</td>\n",
       "    </tr>\n",
       "    <tr>\n",
       "      <th>6</th>\n",
       "      <td>Eating and drinkingAccess15m</td>\n",
       "      <td>0.003329</td>\n",
       "    </tr>\n",
       "  </tbody>\n",
       "</table>\n",
       "</div>"
      ],
      "text/plain": [
       "                                   Feature  Importance\n",
       "5             Culture and tourismAccess15m    0.041435\n",
       "4                        AirportsAccess15m    0.013643\n",
       "17                Water transportAccess15m    0.013363\n",
       "3                   AccommodationAccess15m    0.008183\n",
       "14                  Road and railAccess15m    0.007976\n",
       "10  Infrastructure and facilitiesAccess15m    0.006215\n",
       "16                       ShoppingAccess15m    0.006076\n",
       "13               Public transportAccess15m    0.005619\n",
       "15                        ServiceAccess15m    0.005017\n",
       "7                       EducationAccess15m    0.004665\n",
       "8                   EntertainmentAccess15m    0.004452\n",
       "12                         OfficeAccess15m    0.004421\n",
       "11   Manufacturing and productionAccess15m    0.004228\n",
       "9                          HealthAccess15m    0.003871\n",
       "6             Eating and drinkingAccess15m    0.003329"
      ]
     },
     "execution_count": 111,
     "metadata": {},
     "output_type": "execute_result"
    }
   ],
   "source": [
    "selected_features"
   ]
  },
  {
   "cell_type": "markdown",
   "metadata": {},
   "source": [
    "“Culture and tourismAccess15m”具有最高的特征重要性得分（0.111425），这表明这个特征在模型中起着非常重要的作用，对预测结果的影响最大。\n",
    "\n",
    "\n",
    "需要注意的是，这并不意味着重要性较低的特征就无关紧要或者不重要。它们可能在某些特定的上下文或条件下依然会对预测结果产生影响。\n",
    "\n",
    "同时，也要注意，XGBoost模型的特征重要性得分并不能直接等同于特征对预测目标的影响方向（正面或负面）。"
   ]
  },
  {
   "cell_type": "markdown",
   "metadata": {},
   "source": [
    "网格搜索，自己调参"
   ]
  },
  {
   "cell_type": "code",
   "execution_count": 112,
   "metadata": {},
   "outputs": [
    {
     "name": "stderr",
     "output_type": "stream",
     "text": [
      "c:\\Users\\84398\\AppData\\Local\\Programs\\Python\\Python39\\lib\\site-packages\\sklearn\\model_selection\\_search.py:976: UserWarning: One or more of the test scores are non-finite: [ 0.6006548   0.60303598  0.60634879  0.60791643  0.58623298  0.58761739\n",
      "  0.58839748  0.58986241  0.60211916  0.60211655  0.60212673  0.60217406\n",
      " -6.79302765 -6.79302765 -6.79302765 -6.79302765 -6.79302765 -6.79302765\n",
      " -6.79302765 -6.79302765 -6.79302765 -6.79302765 -6.79302765 -6.79302765\n",
      "         nan         nan         nan         nan         nan         nan\n",
      "         nan         nan         nan         nan         nan         nan\n",
      "  0.41832965  0.4175915   0.41963186  0.42367096  0.37887683  0.37881907\n",
      "  0.378816    0.37913962  0.29904798  0.29904798  0.29904798  0.29904798]\n",
      "  warnings.warn(\n"
     ]
    },
    {
     "name": "stdout",
     "output_type": "stream",
     "text": [
      "Best Parameters:  {'learning_rate': 0.3, 'max_depth': 2, 'n_estimators': 600}\n",
      "Train RMSE: 1031.732329597594\n",
      "Test RMSE: 1858.3059541206144\n",
      "Train R²: 0.9007015965854104\n",
      "Test R²: 0.6605899358187981\n",
      "Train MAPE: 10.32%\n",
      "Test MAPE: 18.11%\n"
     ]
    }
   ],
   "source": [
    "from sklearn.model_selection import GridSearchCV\n",
    "\n",
    "# 定义参数网格\n",
    "param_grid = {\n",
    "    'learning_rate': [0.3,0,5,1.0,],\n",
    "    'n_estimators': [900,800,700,600],\n",
    "    'max_depth': [2, 3, 5]\n",
    "}\n",
    "\n",
    "# 创建网格搜索对象\n",
    "grid_search = GridSearchCV(estimator=xgb_model, param_grid=param_grid, cv=3, n_jobs=-1)\n",
    "\n",
    "# 进行网格搜索\n",
    "grid_search.fit(X_train, y_train)\n",
    "\n",
    "# 输出最优参数\n",
    "print(\"Best Parameters: \", grid_search.best_params_)\n",
    "\n",
    "testResult(grid_search)\n"
   ]
  },
  {
   "cell_type": "markdown",
   "metadata": {},
   "source": [
    "分区域单独训练"
   ]
  },
  {
   "cell_type": "code",
   "execution_count": 113,
   "metadata": {},
   "outputs": [],
   "source": [
    "df = pd.read_csv(r\"D:\\s-casa毕业论文-工程\\R5R_TEST1_london\\Test2_onmypoi_data\\mergeResult\\housing_accessibility_remove_outliers.csv\")\n",
    "# 使用布尔索引选取 borough 列值为 'Tower Hamlets' 的行\n",
    "\n",
    "tower_hamlets_df = df[df['borough'] == 'Kensington and Chelsea']\n",
    "# 删除 borough 列\n",
    "tower_hamlets_df = tower_hamlets_df.drop('borough', axis=1)\n",
    "\n",
    "\n"
   ]
  },
  {
   "cell_type": "code",
   "execution_count": 114,
   "metadata": {},
   "outputs": [
    {
     "name": "stdout",
     "output_type": "stream",
     "text": [
      "Train RMSE: 3.79355630172618\n",
      "Test RMSE: 4186.057258148692\n",
      "Train R²: 0.9999996435905051\n",
      "Test R²: 0.6606979498871126\n",
      "Train MAPE: 0.01%\n",
      "Test MAPE: 16.03%\n"
     ]
    }
   ],
   "source": [
    "\n",
    "\n",
    "# Perform one-hot encoding on the categorical variables\n",
    "df_encoded = pd.get_dummies(tower_hamlets_df, columns=['property_type'])\n",
    "\n",
    "# Define predictors and target variable\n",
    "X = df_encoded.drop(['price', 'address', \n",
    "        'lat', 'lon', 'Price_per_square_meter', 'id'], axis=1)\n",
    "y = df_encoded['Price_per_square_meter']\n",
    "\n",
    "# Split data into train and test sets\n",
    "X_train, X_test, y_train, y_test = train_test_split(X, y, test_size=0.2, random_state=42)\n",
    "\n",
    "# 创建XGBoost回归模型\n",
    "xgb_model = xgb.XGBRegressor()\n",
    "\n",
    "# 训练模型\n",
    "xgb_model.fit(X_train, y_train)\n",
    "\n",
    "testResult(xgb_model)\n"
   ]
  },
  {
   "cell_type": "code",
   "execution_count": 115,
   "metadata": {},
   "outputs": [
    {
     "name": "stdout",
     "output_type": "stream",
     "text": [
      "     True Values  Predicted Values\n",
      "0   17006.802720      15878.594727\n",
      "1   16666.666670      13336.717773\n",
      "2   13173.652690      19475.414062\n",
      "3   42682.926830      36762.707031\n",
      "4   20491.803280      19974.035156\n",
      "5   24900.398410      24734.013672\n",
      "6   26209.677420      20075.433594\n",
      "7   15432.098770      17558.638672\n",
      "8   36363.636360      36363.476562\n",
      "9   17135.862910      17137.029297\n",
      "10  22857.142860      22861.308594\n",
      "11  21313.364060      20001.542969\n",
      "12  13100.436680      13484.448242\n",
      "13  16037.735850      16037.856445\n",
      "14  13227.513230      14122.529297\n",
      "15  17006.802720      20316.992188\n",
      "16  14705.882350      14707.398438\n",
      "17  20161.290320      20505.394531\n",
      "18  18259.385670      19832.261719\n",
      "19  21017.699120      30565.732422\n",
      "20  13172.043010      22687.445312\n",
      "21  38435.374150      33523.929688\n",
      "22  22403.846150      25375.925781\n",
      "23  27173.913040      17075.830078\n",
      "24  26859.504130      26629.830078\n",
      "25  18670.886080      24805.255859\n",
      "26  15773.809520      16766.574219\n",
      "27  24844.720500      20092.195312\n",
      "28  34793.814430      34714.953125\n",
      "29  26401.179940      31415.218750\n",
      "30  12760.000000      20222.833984\n",
      "31  20518.867920      20037.902344\n",
      "32  13772.455090      21815.621094\n",
      "33  16746.411480      17468.072266\n",
      "34  13970.588240      19522.929688\n",
      "35  22564.935060      22565.519531\n",
      "36  33750.000000      35880.621094\n",
      "37  18867.924530      20799.667969\n",
      "38  22532.188840      21886.820312\n",
      "39  16312.056740      14668.574219\n",
      "40  21324.786320      21874.294922\n",
      "41  21381.578950      16073.362305\n",
      "42  15109.890110      20196.169922\n",
      "43  13908.450700      20945.541016\n",
      "44   9195.402299       9196.617188\n",
      "45  16839.378240      17300.187500\n",
      "46  21165.254240      18459.507812\n"
     ]
    }
   ],
   "source": [
    "# Make predictions on the test set\n",
    "y_test_pred = xgb_model.predict(X_test)\n",
    "\n",
    "# Create a DataFrame to store the true and predicted values\n",
    "results_df = pd.DataFrame({'True Values': y_test.values, 'Predicted Values': y_test_pred})\n",
    "\n",
    "# Print the DataFrame with true and predicted values\n",
    "print(results_df)"
   ]
  },
  {
   "cell_type": "code",
   "execution_count": 116,
   "metadata": {},
   "outputs": [
    {
     "data": {
      "image/png": "[encoded data removed]",
      "text/plain": [
       "<Figure size 720x432 with 1 Axes>"
      ]
     },
     "metadata": {
      "needs_background": "light"
     },
     "output_type": "display_data"
    }
   ],
   "source": [
    "import matplotlib.pyplot as plt\n",
    "\n",
    "# 获取特征重要性数组\n",
    "feature_importance = xgb_model.feature_importances_\n",
    "\n",
    "# 获取特征名列表（假设你的X_train是一个DataFrame）\n",
    "feature_names = X_train.columns\n",
    "\n",
    "# 将特征重要性和特征名组合成一个DataFrame，便于排序和绘制\n",
    "importance_df = pd.DataFrame({'Feature': feature_names, 'Importance': feature_importance})\n",
    "\n",
    "# 筛选特征名以\"15m\"结尾的特征\n",
    "selected_features = importance_df[importance_df['Feature'].str.endswith('15m')]\n",
    "\n",
    "# 按照特征重要性降序排序\n",
    "selected_features = selected_features.sort_values(by='Importance', ascending=False)\n",
    "\n",
    "# 取前十项特征\n",
    "top_10_features = selected_features.head(10)\n",
    "\n",
    "# 绘制柱状图\n",
    "plt.figure(figsize=(10, 6))\n",
    "plt.bar(top_10_features['Feature'], top_10_features['Importance'])\n",
    "plt.xticks(rotation=45, ha='right')\n",
    "plt.xlabel('Features')\n",
    "plt.ylabel('Importance')\n",
    "plt.title('Top 10 XGBoost Feature Importance (ending with \"15m\")')\n",
    "plt.tight_layout()\n",
    "plt.show()\n"
   ]
  },
  {
   "cell_type": "code",
   "execution_count": 117,
   "metadata": {},
   "outputs": [
    {
     "name": "stdout",
     "output_type": "stream",
     "text": [
      "    True Values  Predicted Values\n",
      "0   3571.428571       6461.863770\n",
      "1   7317.073171       6982.560059\n",
      "2   5942.622951       8644.288086\n",
      "3   6200.000000       5934.482910\n",
      "4   5840.336134       7780.516602\n",
      "5   7442.748092       5823.399902\n",
      "6   6547.619048       5681.216309\n",
      "7   7375.000000       7607.452148\n",
      "8   6493.506494       5739.411621\n",
      "9   9705.882353       8567.356445\n",
      "10  5722.891566       5723.051758\n",
      "11  7714.285714       7713.885742\n",
      "12  6315.789474       5786.059082\n",
      "13  4661.016949       5609.778320\n",
      "14  6567.164179       7859.361816\n",
      "15  5000.000000       4999.951660\n",
      "16  7913.669065       9288.755859\n",
      "17  5597.014925       6642.564941\n",
      "18  7377.049180       7377.056152\n",
      "19  7442.748092       5823.399902\n",
      "20  7777.777778       6187.074707\n",
      "21  9400.000000       9045.877930\n",
      "22  8802.816901       7578.818359\n",
      "23  5000.000000       4999.951660\n",
      "24  6500.000000       8111.124023\n",
      "25  7425.742574       7661.066406\n",
      "26  8333.333333      11093.773438\n",
      "27  7500.000000       6612.611328\n"
     ]
    }
   ],
   "source": [
    "\n",
    "# Load the dataset\n",
    "df = pd.read_csv(r\"D:\\s-casa毕业论文-工程\\R5R_TEST1_london\\Test2_onmypoi_data\\mergeResult\\housing_accessibility_remove_outliers.csv\")\n",
    "\n",
    "# Filter data for Greenwich borough\n",
    "greenwich_df = df[df['borough'] == 'Greenwich']\n",
    "\n",
    "# Drop the borough column\n",
    "greenwich_df = greenwich_df.drop('borough', axis=1)\n",
    "\n",
    "# Perform one-hot encoding on the categorical variables\n",
    "df_encoded = pd.get_dummies(greenwich_df, columns=['property_type'])\n",
    "\n",
    "# Define predictors and target variable\n",
    "X = df_encoded.drop(['price', 'address', 'lat', 'lon', 'Price_per_square_meter', 'id'], axis=1)\n",
    "y = df_encoded['Price_per_square_meter']\n",
    "\n",
    "# Split data into train and test sets\n",
    "X_train, X_test, y_train, y_test = train_test_split(X, y, test_size=0.2, random_state=42)\n",
    "\n",
    "# Create XGBoost regression model\n",
    "xgb_model = xgb.XGBRegressor()\n",
    "\n",
    "# Train the model\n",
    "xgb_model.fit(X_train, y_train)\n",
    "\n",
    "# Make predictions on the test set\n",
    "y_test_pred = xgb_model.predict(X_test)\n",
    "\n",
    "# Create a DataFrame to store the true and predicted values\n",
    "results_df = pd.DataFrame({'True Values': y_test.values, 'Predicted Values': y_test_pred})\n",
    "\n",
    "# Print the DataFrame with true and predicted values\n",
    "print(results_df)\n"
   ]
  },
  {
   "cell_type": "code",
   "execution_count": 118,
   "metadata": {},
   "outputs": [
    {
     "name": "stdout",
     "output_type": "stream",
     "text": [
      "Train RMSE: 0.1492495537144541\n",
      "Test RMSE: 1316.9437974939137\n",
      "Train R²: 0.9999999930038836\n",
      "Test R²: 0.09793775556574114\n",
      "Train MAPE: 0.00%\n",
      "Test MAPE: 15.97%\n"
     ]
    }
   ],
   "source": [
    "testResult(xgb_model)"
   ]
  },
  {
   "cell_type": "code",
   "execution_count": 119,
   "metadata": {},
   "outputs": [
    {
     "name": "stdout",
     "output_type": "stream",
     "text": [
      "R-squared (R²) value: 0.09793775556574114\n"
     ]
    }
   ],
   "source": [
    "from sklearn.metrics import r2_score\n",
    "\n",
    "# Calculate R-squared (R²) value\n",
    "r2 = r2_score(y_test, y_test_pred)\n",
    "\n",
    "print(f\"R-squared (R²) value: {r2}\")\n"
   ]
  },
  {
   "cell_type": "code",
   "execution_count": 120,
   "metadata": {},
   "outputs": [
    {
     "data": {
      "image/png": "[encoded data removed]",
      "text/plain": [
       "<Figure size 720x432 with 1 Axes>"
      ]
     },
     "metadata": {
      "needs_background": "light"
     },
     "output_type": "display_data"
    }
   ],
   "source": [
    "import matplotlib.pyplot as plt\n",
    "\n",
    "# 获取特征重要性数组\n",
    "feature_importance = xgb_model.feature_importances_\n",
    "\n",
    "# 获取特征名列表（假设你的X_train是一个DataFrame）\n",
    "feature_names = X_train.columns\n",
    "\n",
    "# 将特征重要性和特征名组合成一个DataFrame，便于排序和绘制\n",
    "importance_df = pd.DataFrame({'Feature': feature_names, 'Importance': feature_importance})\n",
    "\n",
    "# 筛选特征名以\"15m\"结尾的特征\n",
    "selected_features = importance_df[importance_df['Feature'].str.endswith('15m')]\n",
    "\n",
    "# 按照特征重要性降序排序\n",
    "selected_features = selected_features.sort_values(by='Importance', ascending=False)\n",
    "\n",
    "# 取前十项特征\n",
    "top_10_features = selected_features.head(10)\n",
    "\n",
    "# 绘制柱状图\n",
    "plt.figure(figsize=(10, 6))\n",
    "plt.bar(top_10_features['Feature'], top_10_features['Importance'])\n",
    "plt.xticks(rotation=45, ha='right')\n",
    "plt.xlabel('Features')\n",
    "plt.ylabel('Importance')\n",
    "plt.title('Top 10 XGBoost Feature Importance (ending with \"15m\")')\n",
    "plt.tight_layout()\n",
    "plt.show()\n"
   ]
  }
 ],
 "metadata": {
  "kernelspec": {
   "display_name": "Python 3",
   "language": "python",
   "name": "python3"
  },
  "language_info": {
   "codemirror_mode": {
    "name": "ipython",
    "version": 3
   },
   "file_extension": ".py",
   "mimetype": "text/x-python",
   "name": "python",
   "nbconvert_exporter": "python",
   "pygments_lexer": "ipython3",
   "version": "3.9.6"
  },
  "orig_nbformat": 4
 },
 "nbformat": 4,
 "nbformat_minor": 2
}
