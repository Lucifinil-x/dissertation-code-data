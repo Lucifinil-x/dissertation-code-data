{
 "cells": [
  {
   "cell_type": "code",
   "execution_count": 11,
   "metadata": {},
   "outputs": [],
   "source": [
    "import pandas as pd\n",
    "import matplotlib.pyplot as plt\n",
    "import seaborn as sns\n",
    "\n",
    "from sklearn.model_selection import train_test_split\n",
    "from sklearn.linear_model import LinearRegression\n",
    "from sklearn.metrics import mean_squared_error, r2_score\n",
    "import pandas as pd\n",
    "from statsmodels.stats.outliers_influence import variance_inflation_factor\n",
    "from sklearn.model_selection import train_test_split\n",
    "from sklearn.linear_model import LinearRegression\n",
    "from sklearn.metrics import mean_squared_error, r2_score\n",
    "from sklearn.ensemble import RandomForestRegressor\n",
    "from sklearn.model_selection import train_test_split\n",
    "from sklearn.metrics import mean_squared_error, r2_score\n",
    "from sklearn.metrics import accuracy_score\n",
    "from sklearn.metrics import r2_score\n",
    "import numpy as np\n",
    "from sklearn.model_selection import validation_curve\n",
    "from sklearn.ensemble import RandomForestRegressor\n",
    "from sklearn.model_selection import cross_val_score\n",
    "\n",
    "import xgboost as xgb\n",
    "from sklearn.metrics import mean_squared_error\n",
    "from xgboost import XGBRegressor\n"
   ]
  },
  {
   "cell_type": "code",
   "execution_count": 12,
   "metadata": {},
   "outputs": [],
   "source": [
    "df = pd.read_csv(r\"D:\\POI data\\merged_data\\727_3737_add_tenure_garden.csv\")\n",
    "\n",
    "\n",
    "#df = df.drop('tenure', axis=1)\n",
    "\n",
    "\n",
    "\n",
    "df_encoded = pd.get_dummies(df, columns=['property_type', 'borough','tenure'])\n",
    "#df_encoded = pd.get_dummies(df, columns=['property_type', 'borough'])\n",
    "\n",
    "\n",
    "X = df_encoded.drop(['price', 'address', \n",
    "        'lat', 'lon', 'Price_per_square_meter', 'id'], axis=1)\n",
    "y = df_encoded['Price_per_square_meter']\n",
    "\n",
    "\n",
    "X_train, X_test, y_train, y_test = train_test_split(X, y, test_size=0.2, random_state=42)\n"
   ]
  },
  {
   "cell_type": "code",
   "execution_count": null,
   "metadata": {},
   "outputs": [],
   "source": []
  },
  {
   "cell_type": "code",
   "execution_count": 13,
   "metadata": {},
   "outputs": [],
   "source": [
    "def testResult(rf_model):\n",
    "    # 预测训练集和测试集\n",
    "    y_train_pred = rf_model.predict(X_train)\n",
    "    y_test_pred = rf_model.predict(X_test)\n",
    "\n",
    "    # 计算均方根误差（RMSE）作为性能指标\n",
    "    train_rmse = np.sqrt(mean_squared_error(y_train, y_train_pred))\n",
    "    test_rmse = np.sqrt(mean_squared_error(y_test, y_test_pred))\n",
    "\n",
    "    #print(f\"Train RMSE: {train_rmse}\")\n",
    "    print(f\"Test RMSE: {test_rmse}\")\n",
    "\n",
    "\n",
    "    # 计算训练集和测试集的R²值\n",
    "    train_r2 = r2_score(y_train, y_train_pred)\n",
    "    test_r2 = r2_score(y_test, y_test_pred)\n",
    "\n",
    "    #print(f\"Train R²: {train_r2}\")\n",
    "    print(f\"Test R²: {test_r2}\")\n",
    "\n",
    "    # 计算训练集和测试集的MAPE值\n",
    "    train_mape = np.mean(np.abs((y_train - y_train_pred) / y_train)) * 100\n",
    "    test_mape = np.mean(np.abs((y_test - y_test_pred) / y_test)) * 100\n",
    "\n",
    "    #print(f\"Train MAPE: {train_mape:.2f}%\")\n",
    "    print(f\"Test MAPE: {test_mape:.2f}%\")\n"
   ]
  },
  {
   "cell_type": "code",
   "execution_count": 14,
   "metadata": {},
   "outputs": [
    {
     "name": "stdout",
     "output_type": "stream",
     "text": [
      "Test RMSE: 2908.0449409643015\n",
      "Test R²: 0.7154933115240094\n",
      "Test MAPE: 19.07%\n"
     ]
    }
   ],
   "source": [
    "\n",
    "# Initialize the Random Forest Regressor\n",
    "rf_model = RandomForestRegressor(n_estimators=110, random_state=42)\n",
    "\n",
    "# Fit the model on the training data\n",
    "rf_model.fit(X_train, y_train)\n",
    "\n",
    "# Predict on the test data\n",
    "y_pred = rf_model.predict(X_test)\n",
    "\n",
    "testResult(rf_model)"
   ]
  },
  {
   "cell_type": "code",
   "execution_count": 15,
   "metadata": {},
   "outputs": [
    {
     "data": {
      "image/png": "[encoded data removed]",
      "text/plain": [
       "<Figure size 432x288 with 1 Axes>"
      ]
     },
     "metadata": {
      "needs_background": "light"
     },
     "output_type": "display_data"
    }
   ],
   "source": [
    "\n",
    "# 获取模型在测试集上的预测值\n",
    "y_test_pred = rf_model.predict(X_test)\n",
    "\n",
    "# 绘制测试集的散点图，设置颜色为蓝色，大小为10\n",
    "plt.scatter(y_test.to_numpy(), y_test_pred, color='#358CEA', s=3, label='Test Data')\n",
    "\n",
    "# 绘制对角线，表示完美预测的线\n",
    "plt.plot([y_test.min(), y_test.max()],\n",
    "         [y_test.min(), y_test.max()],\n",
    "         color='black', linestyle='--')\n",
    "\n",
    "# 设置图例和标签\n",
    "plt.xlabel('Price')\n",
    "plt.ylabel('Predicted Price')\n",
    "plt.title('Scatter Plot Real vs Predicted.')\n",
    "plt.legend()\n",
    "\n",
    "# 显示图形\n",
    "plt.show()\n"
   ]
  },
  {
   "cell_type": "markdown",
   "metadata": {},
   "source": [
    "---"
   ]
  },
  {
   "cell_type": "code",
   "execution_count": 16,
   "metadata": {},
   "outputs": [],
   "source": [
    "df = pd.read_csv(r\"D:\\POI data\\merged_data\\727_3737_add_tenure_garden.csv\")\n",
    "df['Public transportAccess15m'] =  df['Public transportAccess15m'] + df['Water transportAccess15m']\n",
    "df = df.drop(columns=['Water transportAccess15m','AccommodationAccess15m'])\n",
    "\n",
    "df_encoded = pd.get_dummies(df, columns=['property_type', 'borough','tenure'])\n",
    "\n",
    "X = df_encoded.drop(['price', 'address', \n",
    "        'lat', 'lon', 'Price_per_square_meter', 'id'], axis=1)\n",
    "y = df_encoded['Price_per_square_meter']\n",
    "\n",
    "\n",
    "X_train, X_test, y_train, y_test = train_test_split(X, y, test_size=0.2, random_state=42)\n",
    "\n",
    "\n"
   ]
  },
  {
   "cell_type": "code",
   "execution_count": 17,
   "metadata": {},
   "outputs": [
    {
     "name": "stdout",
     "output_type": "stream",
     "text": [
      "Test RMSE: 2919.7592126835207\n",
      "Test R²: 0.7131965786048662\n",
      "Test MAPE: 19.11%\n"
     ]
    }
   ],
   "source": [
    "\n",
    "# Initialize the Random Forest Regressor\n",
    "rf_model = RandomForestRegressor(n_estimators=110, random_state=42)\n",
    "\n",
    "# Fit the model on the training data\n",
    "rf_model.fit(X_train, y_train)\n",
    "\n",
    "# Predict on the test data\n",
    "y_pred = rf_model.predict(X_test)\n",
    "\n",
    "testResult(rf_model)"
   ]
  }
 ],
 "metadata": {
  "kernelspec": {
   "display_name": "Python 3",
   "language": "python",
   "name": "python3"
  },
  "language_info": {
   "codemirror_mode": {
    "name": "ipython",
    "version": 3
   },
   "file_extension": ".py",
   "mimetype": "text/x-python",
   "name": "python",
   "nbconvert_exporter": "python",
   "pygments_lexer": "ipython3",
   "version": "3.9.6"
  },
  "orig_nbformat": 4
 },
 "nbformat": 4,
 "nbformat_minor": 2
}
