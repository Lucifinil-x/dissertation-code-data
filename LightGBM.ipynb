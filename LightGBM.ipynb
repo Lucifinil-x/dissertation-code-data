{
 "cells": [
  {
   "cell_type": "code",
   "execution_count": 1,
   "metadata": {},
   "outputs": [],
   "source": [
    "import lightgbm as lgb\n",
    "from sklearn.metrics import mean_squared_error\n",
    "import pandas as pd\n",
    "import matplotlib.pyplot as plt\n",
    "import seaborn as sns\n",
    "\n",
    "from sklearn.model_selection import train_test_split\n",
    "from sklearn.linear_model import LinearRegression\n",
    "from sklearn.metrics import mean_squared_error, r2_score\n",
    "import pandas as pd\n",
    "from statsmodels.stats.outliers_influence import variance_inflation_factor\n",
    "from sklearn.model_selection import train_test_split\n",
    "from sklearn.linear_model import LinearRegression\n",
    "from sklearn.metrics import mean_squared_error, r2_score\n",
    "from sklearn.ensemble import RandomForestRegressor\n",
    "from sklearn.model_selection import train_test_split\n",
    "from sklearn.metrics import mean_squared_error, r2_score\n",
    "from sklearn.metrics import accuracy_score\n",
    "from sklearn.metrics import r2_score\n",
    "import numpy as np\n",
    "from sklearn.model_selection import validation_curve\n",
    "from sklearn.ensemble import RandomForestRegressor\n",
    "from sklearn.model_selection import cross_val_score\n",
    "\n",
    "import xgboost as xgb\n",
    "from sklearn.metrics import mean_squared_error\n",
    "\n"
   ]
  },
  {
   "cell_type": "code",
   "execution_count": 2,
   "metadata": {},
   "outputs": [],
   "source": [
    "df = pd.read_csv(r\"D:\\POI data\\729_acc\\729reclass3_add_distanceToCenter.csv\")\n",
    "\n",
    "df_encoded = pd.get_dummies(df, columns=['property_type', 'borough','tenure'])\n",
    "\n",
    "X = df_encoded.drop(['price', 'address', \n",
    "        'lat', 'lon', 'Price_per_square_meter', 'id'], axis=1)\n",
    "y = df_encoded['Price_per_square_meter']\n",
    "\n",
    "\n",
    "X_train, X_test, y_train, y_test = train_test_split(X, y, test_size=0.2, random_state=42)\n"
   ]
  },
  {
   "cell_type": "code",
   "execution_count": 3,
   "metadata": {},
   "outputs": [
    {
     "name": "stdout",
     "output_type": "stream",
     "text": [
      "[LightGBM] [Warning] Found whitespace in feature_names, replace with underlines\n",
      "[LightGBM] [Warning] Auto-choosing row-wise multi-threading, the overhead of testing was 0.001022 seconds.\n",
      "You can set `force_row_wise=true` to remove the overhead.\n",
      "And if memory is not enough, you can set `force_col_wise=true`.\n",
      "[LightGBM] [Info] Total Bins 2794\n",
      "[LightGBM] [Info] Number of data points in the train set: 2989, number of used features: 71\n",
      "[LightGBM] [Info] Start training from score 9671.342140\n",
      "Test R2 Score: 0.69\n",
      "Test RMSE: 3047.82\n"
     ]
    }
   ],
   "source": [
    "import lightgbm as lgb\n",
    "from sklearn.metrics import r2_score, mean_squared_error\n",
    "import numpy as np\n",
    "\n",
    "def train_lightgbm_model(X_train, X_test, y_train, y_test):\n",
    "    # Create LightGBM regression model\n",
    "    lgb_model = lgb.LGBMRegressor()\n",
    "\n",
    "    # Train the model\n",
    "    lgb_model.fit(X_train, y_train)\n",
    "\n",
    "    # Use the model for predictions\n",
    "    y_train_pred = lgb_model.predict(X_train)\n",
    "    y_test_pred = lgb_model.predict(X_test)\n",
    "\n",
    "    # Calculate R2 scores\n",
    "    r2_train = r2_score(y_train, y_train_pred)\n",
    "    r2_test = r2_score(y_test, y_test_pred)\n",
    "\n",
    "    # Calculate root mean squared errors (RMSE)\n",
    "    train_rmse = np.sqrt(mean_squared_error(y_train, y_train_pred))\n",
    "    test_rmse = np.sqrt(mean_squared_error(y_test, y_test_pred))\n",
    "\n",
    "    #print(f\"Train R2 Score: {r2_train:.2f}\")\n",
    "    print(f\"Test R2 Score: {r2_test:.2f}\")\n",
    "    #print(f\"Train RMSE: {train_rmse:.2f}\")\n",
    "    print(f\"Test RMSE: {test_rmse:.2f}\")\n",
    "\n",
    "    return lgb_model\n",
    "\n",
    "# Assuming X_train, X_test, y_train, y_test are defined as before\n",
    "trained_model = train_lightgbm_model(X_train, X_test, y_train, y_test)\n"
   ]
  }
 ],
 "metadata": {
  "kernelspec": {
   "display_name": "Python 3",
   "language": "python",
   "name": "python3"
  },
  "language_info": {
   "codemirror_mode": {
    "name": "ipython",
    "version": 3
   },
   "file_extension": ".py",
   "mimetype": "text/x-python",
   "name": "python",
   "nbconvert_exporter": "python",
   "pygments_lexer": "ipython3",
   "version": "3.9.6"
  },
  "orig_nbformat": 4
 },
 "nbformat": 4,
 "nbformat_minor": 2
}
