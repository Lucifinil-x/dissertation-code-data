{
 "cells": [
  {
   "cell_type": "markdown",
   "metadata": {},
   "source": [
    "该模型由来自先前模型的50%随机森林、50% XGBoost"
   ]
  },
  {
   "cell_type": "code",
   "execution_count": 17,
   "metadata": {},
   "outputs": [],
   "source": [
    "import pandas as pd\n",
    "import matplotlib.pyplot as plt\n",
    "import seaborn as sns\n",
    "\n",
    "from sklearn.model_selection import train_test_split\n",
    "from sklearn.linear_model import LinearRegression\n",
    "from sklearn.metrics import mean_squared_error, r2_score\n",
    "import pandas as pd\n",
    "from statsmodels.stats.outliers_influence import variance_inflation_factor\n",
    "from sklearn.model_selection import train_test_split\n",
    "from sklearn.linear_model import LinearRegression\n",
    "from sklearn.metrics import mean_squared_error, r2_score\n",
    "from sklearn.ensemble import RandomForestRegressor\n",
    "from sklearn.model_selection import train_test_split\n",
    "from sklearn.metrics import mean_squared_error, r2_score\n",
    "from sklearn.metrics import accuracy_score\n",
    "from sklearn.metrics import r2_score\n",
    "import numpy as np\n",
    "from sklearn.model_selection import validation_curve\n",
    "from sklearn.ensemble import RandomForestRegressor\n",
    "from sklearn.model_selection import cross_val_score\n",
    "\n",
    "import xgboost as xgb\n",
    "from sklearn.metrics import mean_squared_error\n",
    "from xgboost import XGBRegressor\n",
    "from math import sqrt\n",
    "from sklearn.model_selection import cross_val_predict"
   ]
  },
  {
   "cell_type": "code",
   "execution_count": 18,
   "metadata": {},
   "outputs": [],
   "source": [
    "\n",
    "df = pd.read_csv(r\"D:\\POI data\\729_acc\\729reclass3_add_distanceToCenter.csv\")\n",
    "\n",
    "\n",
    "\n",
    "df_encoded = pd.get_dummies(df, columns=['property_type', 'borough','tenure'])\n",
    "\n",
    "X = df_encoded.drop(['price', 'address', \n",
    "        'lat', 'lon', 'Price_per_square_meter', 'id'], axis=1)\n",
    "y = df_encoded['Price_per_square_meter']\n",
    "\n",
    "\n",
    "X_train, X_test, y_train, y_test = train_test_split(X, y, test_size=0.2, random_state=42)\n"
   ]
  },
  {
   "cell_type": "markdown",
   "metadata": {},
   "source": [
    "XGBoost - 原数据加载\n",
    "\n",
    "Train RMSE: 594.5792650959186\n",
    "Test RMSE: 2580.873616298751\n",
    "Train R²: 0.9885621864051578\n",
    "\n",
    "Test R²: 0.7529165829591934"
   ]
  },
  {
   "cell_type": "markdown",
   "metadata": {},
   "source": [
    "XGBoost - 原数据去除异常值 ，只分train test\n",
    "\n",
    "Train RMSE: 580.3602971267801\n",
    "Test RMSE: 1763.8500025844057\n",
    "\n",
    "Train R²: 0.9683417138724735\n",
    "Test R²: 0.694893574433465\n",
    "\n",
    "Train MAPE: 5.65%\n",
    "Test MAPE: 17.31%"
   ]
  },
  {
   "cell_type": "markdown",
   "metadata": {},
   "source": [
    "XGBoost - 原数据去除异常值+设置train, test, and validation sets\n",
    "\n",
    "Train RMSE: 397.32503134056714\n",
    "Test RMSE: 1672.3150420182708\n",
    "\n",
    "Train R²: 0.9852734831261822\n",
    "Test R²: 0.7251305513273361\n",
    "\n",
    "Train MAPE: 3.84%\n",
    "Test MAPE: 16.00%"
   ]
  },
  {
   "cell_type": "markdown",
   "metadata": {},
   "source": [
    "XGBoost - 原数据去除异常值+设置train, test, and validation sets+创建XGBoost回归模型并添加正则化和早停+ 训练模型并提供验证集用于早停+获取最佳迭代轮数\n",
    "\n",
    "Train RMSE: 342.73999873636814\n",
    "Test RMSE: 1705.9568860130194\n",
    "\n",
    "Train R²: 0.9890418366940535\n",
    "Test R²: 0.7139602554699078\n",
    "\n",
    "Train MAPE: 3.55%\n",
    "Test MAPE: 15.89%"
   ]
  },
  {
   "cell_type": "code",
   "execution_count": 19,
   "metadata": {},
   "outputs": [],
   "source": [
    "# # Load the dataset\n",
    "# df = pd.read_csv(r\"D:\\s-casa毕业论文-工程\\R5R_TEST1_london\\Test2_onmypoi_data\\mergeResult\\housing_accessibility_remove_outliers.csv\")\n",
    "\n",
    "# # Define a function to detect outliers based on the IQR method\n",
    "# def detect_outliers(df, feature):\n",
    "#     Q1 = df[feature].quantile(0.25)\n",
    "#     Q3 = df[feature].quantile(0.75)\n",
    "#     IQR = Q3 - Q1\n",
    "\n",
    "#     lower_bound = Q1 - 1.5 * IQR\n",
    "#     upper_bound = Q3 + 1.5 * IQR\n",
    "\n",
    "#     outliers = df[(df[feature] < lower_bound) | (df[feature] > upper_bound)]\n",
    "#     return outliers\n",
    "\n",
    "# # Use the function to detect outliers in 'Price_per_square_meter'\n",
    "# outliers = detect_outliers(df, 'Price_per_square_meter')\n",
    "# # Keep only the rows in df that are not in the outliers DataFrame\n",
    "# df = df[~df.index.isin(outliers.index)]\n",
    "# df.to_csv(r\"D:\\s-casa毕业论文-工程\\R5R_TEST1_london\\Test2_onmypoi_data\\mergeResult\\housing_accessibility_3614.csv\")\n",
    "# df"
   ]
  },
  {
   "cell_type": "code",
   "execution_count": 20,
   "metadata": {},
   "outputs": [],
   "source": [
    "\n",
    "# 将Price_per_square_meter的单位转换为10000英镑/平方米\n",
    "#y = y / 10000\n",
    "\n",
    "\n",
    "\n",
    "# Split data into train, test, and validation sets\n",
    "# X_train, X_temp, y_train, y_temp = train_test_split(X, y, test_size=0.3, random_state=42)\n",
    "# X_test, X_val, y_test, y_val = train_test_split(X_temp, y_temp, test_size=0.33, random_state=42)\n",
    "\n",
    "# Split data into train and test sets\n",
    "#X_train, X_test, y_train, y_test = train_test_split(X, y, test_size=0.2, random_state=42)\n"
   ]
  },
  {
   "cell_type": "code",
   "execution_count": 21,
   "metadata": {},
   "outputs": [],
   "source": [
    "def testResult(xgb_model):\n",
    "    # 预测训练集和测试集\n",
    "    y_train_pred = xgb_model.predict(X_train)\n",
    "    y_test_pred = xgb_model.predict(X_test)\n",
    "\n",
    "    # 计算均方根误差（RMSE）作为性能指标\n",
    "    train_rmse = np.sqrt(mean_squared_error(y_train, y_train_pred))\n",
    "    test_rmse = np.sqrt(mean_squared_error(y_test, y_test_pred))\n",
    "\n",
    "    print(f\"Train RMSE: {train_rmse}\")\n",
    "    print(f\"Test RMSE: {test_rmse}\")\n",
    "\n",
    "\n",
    "    # 计算训练集和测试集的R²值\n",
    "    train_r2 = r2_score(y_train, y_train_pred)\n",
    "    test_r2 = r2_score(y_test, y_test_pred)\n",
    "\n",
    "    print(f\"Train R²: {train_r2}\")\n",
    "    print(f\"Test R²: {test_r2}\")\n",
    "    #print(f\"params: { xgb_model.get_params()}\")\n",
    "\n",
    "    # 计算训练集和测试集的MAPE值\n",
    "    train_mape = np.mean(np.abs((y_train - y_train_pred) / y_train)) * 100\n",
    "    test_mape = np.mean(np.abs((y_test - y_test_pred) / y_test)) * 100\n",
    "\n",
    "    #print(f\"Train MAPE: {train_mape:.2f}%\")\n",
    "    print(f\"Test MAPE: {test_mape:.2f}%\")"
   ]
  },
  {
   "cell_type": "code",
   "execution_count": 22,
   "metadata": {},
   "outputs": [
    {
     "name": "stdout",
     "output_type": "stream",
     "text": [
      "Train RMSE: 860.686153056713\n",
      "Test RMSE: 2766.4532322615164\n",
      "Train R²: 0.9756406792189527\n",
      "Test R²: 0.742523902217388\n",
      "Test MAPE: 17.71%\n"
     ]
    }
   ],
   "source": [
    "xgb_model = XGBRegressor(\n",
    "    colsample_bytree= 0.8, \n",
    "    gamma= 0, \n",
    "    learning_rate=0.1, \n",
    "    min_child_weight=1, \n",
    "    n_estimators= 200, \n",
    "    reg_alpha= 0,\n",
    "    reg_lambda=0.1, \n",
    "    subsample= 1.0\n",
    ")\n",
    "\n",
    "\n",
    "xgb_model.fit(X_train, y_train)\n",
    "testResult(xgb_model)\n"
   ]
  },
  {
   "cell_type": "markdown",
   "metadata": {},
   "source": [
    "随机森林\n",
    "\n",
    "R^2 score:  0.7210537675096429\n",
    "\n",
    "\n",
    "\n",
    "Mean Squared Error: 7519870.769502744\n",
    "\n",
    "\n",
    "\n",
    "RMSE:  2742.2382773024565"
   ]
  },
  {
   "cell_type": "markdown",
   "metadata": {},
   "source": [
    "随机森林 - 原数据去除异常值+只设置train, test\n",
    "Train RMSE: 672.2983495157224\n",
    "Test RMSE: 1717.5048433839795\n",
    "\n",
    "Train R²: 0.9575169096326405\n",
    "Test R²: 0.7107162791866023\n",
    "\n",
    "Train MAPE: 6.53%\n",
    "Test MAPE: 17.20%"
   ]
  },
  {
   "cell_type": "code",
   "execution_count": 23,
   "metadata": {},
   "outputs": [],
   "source": [
    "def testResult(rf_model):\n",
    "    # 预测训练集和测试集\n",
    "    y_train_pred = rf_model.predict(X_train)\n",
    "    y_test_pred = rf_model.predict(X_test)\n",
    "\n",
    "    # 计算均方根误差（RMSE）作为性能指标\n",
    "    train_rmse = np.sqrt(mean_squared_error(y_train, y_train_pred))\n",
    "    test_rmse = np.sqrt(mean_squared_error(y_test, y_test_pred))\n",
    "\n",
    "    print(f\"Train RMSE: {train_rmse}\")\n",
    "    print(f\"Test RMSE: {test_rmse}\")\n",
    "\n",
    "\n",
    "    # 计算训练集和测试集的R²值\n",
    "    train_r2 = r2_score(y_train, y_train_pred)\n",
    "    test_r2 = r2_score(y_test, y_test_pred)\n",
    "\n",
    "    print(f\"Train R²: {train_r2}\")\n",
    "    print(f\"Test R²: {test_r2}\")\n",
    "\n",
    "    # 计算训练集和测试集的MAPE值\n",
    "    # train_mape = np.mean(np.abs((y_train - y_train_pred) / y_train)) * 100\n",
    "    # test_mape = np.mean(np.abs((y_test - y_test_pred) / y_test)) * 100\n",
    "\n",
    "    # print(f\"Train MAPE: {train_mape:.2f}%\")\n",
    "    # print(f\"Test MAPE: {test_mape:.2f}%\")\n"
   ]
  },
  {
   "cell_type": "code",
   "execution_count": 24,
   "metadata": {},
   "outputs": [
    {
     "name": "stdout",
     "output_type": "stream",
     "text": [
      "Train RMSE: 1043.2277939454023\n",
      "Test RMSE: 2777.8706219358105\n",
      "Train R²: 0.9642122956527053\n",
      "Test R²: 0.7403942648080064\n"
     ]
    }
   ],
   "source": [
    "\n",
    "# Initialize the Random Forest Regressor\n",
    "rf_model = RandomForestRegressor(n_estimators=50, random_state=42)\n",
    "\n",
    "# Fit the model on the training data\n",
    "rf_model.fit(X_train, y_train)\n",
    "\n",
    "# Predict on the test data\n",
    "y_pred = rf_model.predict(X_test)\n",
    "\n",
    "testResult(rf_model)"
   ]
  },
  {
   "cell_type": "code",
   "execution_count": 25,
   "metadata": {},
   "outputs": [
    {
     "data": {
      "image/png": "[encoded data removed]",
      "text/plain": [
       "<Figure size 720x576 with 1 Axes>"
      ]
     },
     "metadata": {
      "needs_background": "light"
     },
     "output_type": "display_data"
    }
   ],
   "source": [
    " # 获取特征重要性\n",
    "feature_importance = rf_model.feature_importances_\n",
    "\n",
    "# 将特征重要性和特征名称对应起来，并按重要性值降序排序\n",
    "feature_importance_df = pd.DataFrame({'Feature': X_train.columns, 'Importance': feature_importance})\n",
    "feature_importance_df = feature_importance_df.sort_values(by='Importance', ascending=False)\n",
    "\n",
    "\n",
    "# 只保留前15个特征\n",
    "top_15_features = feature_importance_df.head(15)\n",
    "\n",
    "# 绘制横向柱状图\n",
    "plt.figure(figsize=(10, 8))\n",
    "plt.barh(top_15_features['Feature'], top_15_features['Importance'], color='skyblue')\n",
    "plt.xlabel('Feature Importance')\n",
    "plt.ylabel('Feature')\n",
    "plt.title('Top 15 Random Forest Feature Importance')\n",
    "plt.show()\n"
   ]
  },
  {
   "cell_type": "markdown",
   "metadata": {},
   "source": [
    "lightGBM"
   ]
  },
  {
   "cell_type": "code",
   "execution_count": 26,
   "metadata": {},
   "outputs": [
    {
     "name": "stdout",
     "output_type": "stream",
     "text": [
      "[LightGBM] [Warning] Found whitespace in feature_names, replace with underlines\n",
      "[LightGBM] [Warning] Auto-choosing col-wise multi-threading, the overhead of testing was 0.000527 seconds.\n",
      "You can set `force_col_wise=true` to remove the overhead.\n",
      "[LightGBM] [Info] Total Bins 2794\n",
      "[LightGBM] [Info] Number of data points in the train set: 2989, number of used features: 71\n",
      "[LightGBM] [Info] Start training from score 9671.342140\n",
      "Test R2 Score: 0.69\n",
      "Test RMSE: 3047.82\n"
     ]
    }
   ],
   "source": [
    "import lightgbm as lgb\n",
    "from sklearn.metrics import r2_score, mean_squared_error\n",
    "import numpy as np\n",
    "\n",
    "def train_lightgbm_model(X_train, X_test, y_train, y_test):\n",
    "    # Create LightGBM regression model\n",
    "    lgb_model = lgb.LGBMRegressor()\n",
    "\n",
    "    # Train the model\n",
    "    lgb_model.fit(X_train, y_train)\n",
    "\n",
    "    # Use the model for predictions\n",
    "    y_train_pred = lgb_model.predict(X_train)\n",
    "    y_test_pred = lgb_model.predict(X_test)\n",
    "\n",
    "    # Calculate R2 scores\n",
    "    r2_train = r2_score(y_train, y_train_pred)\n",
    "    r2_test = r2_score(y_test, y_test_pred)\n",
    "\n",
    "    # Calculate root mean squared errors (RMSE)\n",
    "    train_rmse = np.sqrt(mean_squared_error(y_train, y_train_pred))\n",
    "    test_rmse = np.sqrt(mean_squared_error(y_test, y_test_pred))\n",
    "\n",
    "    #print(f\"Train R2 Score: {r2_train:.2f}\")\n",
    "    print(f\"Test R2 Score: {r2_test:.2f}\")\n",
    "    #print(f\"Train RMSE: {train_rmse:.2f}\")\n",
    "    print(f\"Test RMSE: {test_rmse:.2f}\")\n",
    "\n",
    "    return lgb_model\n",
    "\n",
    "# Assuming X_train, X_test, y_train, y_test are defined as before\n",
    "lightgbm_model = train_lightgbm_model(X_train, X_test, y_train, y_test)\n"
   ]
  },
  {
   "cell_type": "markdown",
   "metadata": {},
   "source": [
    "---"
   ]
  },
  {
   "cell_type": "markdown",
   "metadata": {},
   "source": [
    "HybridRegression模型由来自先前模型的50%随机森林（rf_model）、50% XGBoost（xgb_model）\n",
    "\n",
    "RMSE:  1710.4734579024987\n",
    "\n",
    "R^2:  0.7130800590357023\n",
    "\n",
    "MAPE:  17.25%"
   ]
  },
  {
   "cell_type": "code",
   "execution_count": 27,
   "metadata": {},
   "outputs": [
    {
     "name": "stdout",
     "output_type": "stream",
     "text": [
      "RMSE:  2733.374775465582\n",
      "R^2:  0.7486443697945915\n",
      "MAPE:  17.69%\n"
     ]
    }
   ],
   "source": [
    "# 获得每个模型的预测结果\n",
    "rf_preds = rf_model.predict(X_test)\n",
    "xgb_preds = xgb_model.predict(X_test)\n",
    "\n",
    "# 结合两个模型的预测结果\n",
    "final_preds = (rf_preds + xgb_preds) / 2\n",
    "\n",
    "# 评估组合模型的性能\n",
    "mse = mean_squared_error(y_test, final_preds)\n",
    "rmse = np.sqrt(mse)\n",
    "r2 = r2_score(y_test, final_preds)\n",
    "\n",
    "print('RMSE: ', rmse)\n",
    "print('R^2: ', r2)\n",
    "\n",
    "# Define function to calculate MAPE\n",
    "def calculate_mape(y_true, y_pred):\n",
    "    return np.mean(np.abs((y_true - y_pred) / y_true)) * 100\n",
    "\n",
    "# Calculate MAPE for final_preds\n",
    "mape = calculate_mape(y_test, final_preds)\n",
    "\n",
    "print('MAPE: ',  f\"{mape:.2f}%\")\n",
    "\n"
   ]
  },
  {
   "cell_type": "markdown",
   "metadata": {},
   "source": [
    "结果一样的"
   ]
  },
  {
   "cell_type": "code",
   "execution_count": 28,
   "metadata": {},
   "outputs": [],
   "source": [
    "class HybridRegressor:\n",
    "    def __init__(self, model1, model2, weight1=0.5):\n",
    "        self.model1 = model1\n",
    "        self.model2 = model2\n",
    "        self.weight1 = weight1\n",
    "        self.weight2 = 1 - weight1\n",
    "\n",
    "    def predict(self, X):\n",
    "        pred1 = self.model1.predict(X)\n",
    "        pred2 = self.model2.predict(X)\n",
    "        return self.weight1 * pred1 + self.weight2 * pred2\n"
   ]
  },
  {
   "cell_type": "code",
   "execution_count": 29,
   "metadata": {},
   "outputs": [
    {
     "name": "stdout",
     "output_type": "stream",
     "text": [
      "R^2: 0.7486443697945915"
     ]
    },
    {
     "name": "stdout",
     "output_type": "stream",
     "text": [
      "\n",
      "Train RMSE: 874.6401403568696\n",
      "Test RMSE: 2733.374775465582\n",
      "Train R²: 0.9748444190106353\n",
      "Test R²: 0.7486443697945915\n"
     ]
    }
   ],
   "source": [
    "# Initialize the hybrid model\n",
    "hybrid_model = HybridRegressor(rf_model, xgb_model, weight1=0.5)\n",
    "\n",
    "\n",
    "# Use the hybrid model to make predictions\n",
    "predictions = hybrid_model.predict(X_test)\n",
    "\n",
    "# Calculate R^2\n",
    "r2 = r2_score(y_test, predictions)\n",
    "print(f'R^2: {r2}')\n",
    "\n",
    "\n",
    "\n",
    "y_train_pred = hybrid_model.predict(X_train)\n",
    "y_test_pred = hybrid_model.predict(X_test)\n",
    "train_rmse = np.sqrt(mean_squared_error(y_train, y_train_pred))\n",
    "test_rmse = np.sqrt(mean_squared_error(y_test, y_test_pred))\n",
    "\n",
    "print(f\"Train RMSE: {train_rmse}\")\n",
    "print(f\"Test RMSE: {test_rmse}\")\n",
    "\n",
    "\n",
    "# 计算训练集和测试集的R²值\n",
    "train_r2 = r2_score(y_train, y_train_pred)\n",
    "test_r2 = r2_score(y_test, y_test_pred)\n",
    "\n",
    "print(f\"Train R²: {train_r2}\")\n",
    "print(f\"Test R²: {test_r2}\")\n",
    "\n"
   ]
  },
  {
   "cell_type": "code",
   "execution_count": 30,
   "metadata": {},
   "outputs": [
    {
     "data": {
      "image/png": "[encoded data removed]",
      "text/plain": [
       "<Figure size 432x288 with 1 Axes>"
      ]
     },
     "metadata": {
      "needs_background": "light"
     },
     "output_type": "display_data"
    }
   ],
   "source": [
    "\n",
    "y_test_pred = xgb_model.predict(X_test)\n",
    "\n",
    "# 绘制测试集的散点图，设置颜色为蓝色，大小为10\n",
    "plt.scatter(y_test.to_numpy(), y_test_pred, color='#358CEA', s=3, label='Test Data')\n",
    "\n",
    "# 绘制对角线，表示完美预测的线\n",
    "plt.plot([y_test.min(), y_test.max()],\n",
    "        [y_test.min(), y_test.max()],\n",
    "        color='black', linestyle='--')\n",
    "\n",
    "plt.xlabel('Price')\n",
    "plt.ylabel('Predicted Price')\n",
    "plt.title('XGBoost Real vs Predicted.')\n",
    "plt.legend()\n",
    "plt.show()"
   ]
  },
  {
   "cell_type": "code",
   "execution_count": 31,
   "metadata": {},
   "outputs": [
    {
     "data": {
      "image/png": "[encoded data removed]",
      "text/plain": [
       "<Figure size 432x288 with 1 Axes>"
      ]
     },
     "metadata": {
      "needs_background": "light"
     },
     "output_type": "display_data"
    }
   ],
   "source": [
    "\n",
    "y_test_pred = rf_model.predict(X_test)\n",
    "\n",
    "# 绘制测试集的散点图，设置颜色为蓝色，大小为10\n",
    "plt.scatter(y_test.to_numpy(), y_test_pred, color='#358CEA', s=3, label='Test Data')\n",
    "\n",
    "# 绘制对角线，表示完美预测的线\n",
    "plt.plot([y_test.min(), y_test.max()],\n",
    "        [y_test.min(), y_test.max()],\n",
    "        color='black', linestyle='--')\n",
    "\n",
    "plt.xlabel('Price')\n",
    "plt.ylabel('Predicted Price')\n",
    "plt.title('Random Forest Real vs Predicted.')\n",
    "plt.legend()\n",
    "plt.show()"
   ]
  },
  {
   "cell_type": "code",
   "execution_count": 32,
   "metadata": {},
   "outputs": [
    {
     "data": {
      "image/png": "[encoded data removed]",
      "text/plain": [
       "<Figure size 432x288 with 1 Axes>"
      ]
     },
     "metadata": {
      "needs_background": "light"
     },
     "output_type": "display_data"
    }
   ],
   "source": [
    "\n",
    "y_test_pred = hybrid_model.predict(X_test)\n",
    "\n",
    "# 绘制测试集的散点图，设置颜色为蓝色，大小为10\n",
    "plt.scatter(y_test.to_numpy(), y_test_pred, color='#358CEA', s=3, label='Test Data')\n",
    "\n",
    "# 绘制对角线，表示完美预测的线\n",
    "plt.plot([y_test.min(), y_test.max()],\n",
    "        [y_test.min(), y_test.max()],\n",
    "        color='black', linestyle='--')\n",
    "\n",
    "plt.xlabel('Price')\n",
    "plt.ylabel('Predicted Price')\n",
    "plt.title('Hybrid Real vs Predicted.')\n",
    "plt.legend()\n",
    "plt.show()"
   ]
  },
  {
   "cell_type": "code",
   "execution_count": null,
   "metadata": {},
   "outputs": [],
   "source": []
  }
 ],
 "metadata": {
  "kernelspec": {
   "display_name": "Python 3",
   "language": "python",
   "name": "python3"
  },
  "language_info": {
   "codemirror_mode": {
    "name": "ipython",
    "version": 3
   },
   "file_extension": ".py",
   "mimetype": "text/x-python",
   "name": "python",
   "nbconvert_exporter": "python",
   "pygments_lexer": "ipython3",
   "version": "3.9.6"
  },
  "orig_nbformat": 4
 },
 "nbformat": 4,
 "nbformat_minor": 2
}
