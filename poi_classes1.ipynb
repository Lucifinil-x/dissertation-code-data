{
 "cells": [
  {
   "cell_type": "markdown",
   "metadata": {},
   "source": [
    "对poi类型分类"
   ]
  },
  {
   "cell_type": "markdown",
   "metadata": {},
   "source": [
    "df['pointx_class']里都是编号，例如3170240.,  3170245.,  6340457.,  6340454.,  3190257。我需要对df增加一列'poi_class',里面填每一行的分类属性。 下面是所有分类属性，格式为 分类属性：从左开始匹配的编号。意思是，只要这个数字匹配到编号从左开始的几位数，那么这一行的分类属性就是它；如果没有匹配的分类属性，那么就填为other. \n",
    "\n",
    "Accommodation: 101\n",
    "\n",
    "Eating and drinking：102,947：\n",
    "\n",
    "service：2\n",
    "\n",
    "culture and tourism：3\n",
    "\n",
    "entertainment：4\n",
    "\n",
    "education：527,531,532\n",
    "\n",
    "health：526,528,529,\n",
    "\n",
    "Manufacturing and production: 7\n",
    "\n",
    "shopping：946，948，949\n",
    "\n",
    "finance：209 （这个在gpt给的匹配规则中会把service再改为finance，很聪明）\n",
    "\n",
    "office： 633，635\n",
    "\n",
    "Infrastructure and facilities ：634\n",
    "\n",
    "Airports：1053\n",
    "\n",
    "Public transport ：1057,1059\n",
    "\n",
    "Road and rail ：1054,1055\n",
    "\n",
    "Water transport: 1056"
   ]
  },
  {
   "cell_type": "code",
   "execution_count": 1,
   "metadata": {},
   "outputs": [
    {
     "data": {
      "text/html": [
       "<div>\n",
       "<style scoped>\n",
       "    .dataframe tbody tr th:only-of-type {\n",
       "        vertical-align: middle;\n",
       "    }\n",
       "\n",
       "    .dataframe tbody tr th {\n",
       "        vertical-align: top;\n",
       "    }\n",
       "\n",
       "    .dataframe thead th {\n",
       "        text-align: right;\n",
       "    }\n",
       "</style>\n",
       "<table border=\"1\" class=\"dataframe\">\n",
       "  <thead>\n",
       "    <tr style=\"text-align: right;\">\n",
       "      <th></th>\n",
       "      <th>name</th>\n",
       "      <th>pointx_class</th>\n",
       "      <th>latitude</th>\n",
       "      <th>longitude</th>\n",
       "    </tr>\n",
       "  </thead>\n",
       "  <tbody>\n",
       "    <tr>\n",
       "      <th>0</th>\n",
       "      <td>Roman Road</td>\n",
       "      <td>3170240.0</td>\n",
       "      <td>51.435388</td>\n",
       "      <td>-0.505500</td>\n",
       "    </tr>\n",
       "    <tr>\n",
       "      <th>1</th>\n",
       "      <td>Moat</td>\n",
       "      <td>3170245.0</td>\n",
       "      <td>51.325649</td>\n",
       "      <td>0.174568</td>\n",
       "    </tr>\n",
       "    <tr>\n",
       "      <th>2</th>\n",
       "      <td>Moat</td>\n",
       "      <td>3170245.0</td>\n",
       "      <td>51.515484</td>\n",
       "      <td>0.246527</td>\n",
       "    </tr>\n",
       "    <tr>\n",
       "      <th>3</th>\n",
       "      <td>Moat</td>\n",
       "      <td>3170245.0</td>\n",
       "      <td>51.497405</td>\n",
       "      <td>0.258403</td>\n",
       "    </tr>\n",
       "    <tr>\n",
       "      <th>4</th>\n",
       "      <td>Moat</td>\n",
       "      <td>3170245.0</td>\n",
       "      <td>51.386622</td>\n",
       "      <td>0.161935</td>\n",
       "    </tr>\n",
       "    <tr>\n",
       "      <th>...</th>\n",
       "      <td>...</td>\n",
       "      <td>...</td>\n",
       "      <td>...</td>\n",
       "      <td>...</td>\n",
       "    </tr>\n",
       "    <tr>\n",
       "      <th>375479</th>\n",
       "      <td>Abbey Community Centre</td>\n",
       "      <td>6340456.0</td>\n",
       "      <td>51.540131</td>\n",
       "      <td>0.071803</td>\n",
       "    </tr>\n",
       "    <tr>\n",
       "      <th>375480</th>\n",
       "      <td>Scouts</td>\n",
       "      <td>6350452.0</td>\n",
       "      <td>51.563827</td>\n",
       "      <td>-0.442227</td>\n",
       "    </tr>\n",
       "    <tr>\n",
       "      <th>375481</th>\n",
       "      <td>St Albans Church Hall</td>\n",
       "      <td>6340456.0</td>\n",
       "      <td>51.582993</td>\n",
       "      <td>-0.367225</td>\n",
       "    </tr>\n",
       "    <tr>\n",
       "      <th>375482</th>\n",
       "      <td>Brickfield Community Centre</td>\n",
       "      <td>6340456.0</td>\n",
       "      <td>51.482459</td>\n",
       "      <td>-0.314747</td>\n",
       "    </tr>\n",
       "    <tr>\n",
       "      <th>375483</th>\n",
       "      <td>1st Surbiton Sea Scout Group</td>\n",
       "      <td>6350452.0</td>\n",
       "      <td>51.391298</td>\n",
       "      <td>-0.310829</td>\n",
       "    </tr>\n",
       "  </tbody>\n",
       "</table>\n",
       "<p>375484 rows × 4 columns</p>\n",
       "</div>"
      ],
      "text/plain": [
       "                                name  pointx_class   latitude  longitude\n",
       "0                         Roman Road     3170240.0  51.435388  -0.505500\n",
       "1                               Moat     3170245.0  51.325649   0.174568\n",
       "2                               Moat     3170245.0  51.515484   0.246527\n",
       "3                               Moat     3170245.0  51.497405   0.258403\n",
       "4                               Moat     3170245.0  51.386622   0.161935\n",
       "...                              ...           ...        ...        ...\n",
       "375479        Abbey Community Centre     6340456.0  51.540131   0.071803\n",
       "375480                        Scouts     6350452.0  51.563827  -0.442227\n",
       "375481         St Albans Church Hall     6340456.0  51.582993  -0.367225\n",
       "375482   Brickfield Community Centre     6340456.0  51.482459  -0.314747\n",
       "375483  1st Surbiton Sea Scout Group     6350452.0  51.391298  -0.310829\n",
       "\n",
       "[375484 rows x 4 columns]"
      ]
     },
     "execution_count": 1,
     "metadata": {},
     "output_type": "execute_result"
    }
   ],
   "source": [
    "import os\n",
    "import pandas as pd\n",
    "\n",
    "\n",
    "df = pd.read_csv(r\"D:\\POI data\\poi_cleaned_data\\poi_deleted_columns.csv\")\n",
    "df"
   ]
  },
  {
   "cell_type": "code",
   "execution_count": 44,
   "metadata": {},
   "outputs": [],
   "source": [
    "# df['pointx_class'].unique()"
   ]
  },
  {
   "cell_type": "code",
   "execution_count": 2,
   "metadata": {},
   "outputs": [],
   "source": [
    "def match_poi_class(number):\n",
    "    if str(number).startswith(('102', '947')):\n",
    "        return 'Eating and drinking'\n",
    "    elif str(number).startswith('101'):\n",
    "        return 'Accommodation'\n",
    "    elif str(number).startswith('209'):\n",
    "        return 'Finance'\n",
    "    elif str(number).startswith('2'):\n",
    "        return 'Service'\n",
    "    elif str(number).startswith('3'):\n",
    "        return 'Culture and tourism'\n",
    "    elif str(number).startswith('4'):\n",
    "        return 'Entertainment'\n",
    "    elif str(number).startswith(('527', '531', '532')):\n",
    "        return 'Education'\n",
    "    elif str(number).startswith(('526', '528', '529')):\n",
    "        return 'Health'\n",
    "    elif str(number).startswith(('946', '948', '949')):\n",
    "        return 'Shopping'\n",
    "    \n",
    "    elif str(number).startswith(('633', '635')):\n",
    "        return 'Office'\n",
    "    elif str(number).startswith('634'):\n",
    "        return 'Infrastructure and facilities'\n",
    "    elif str(number).startswith('7'):\n",
    "        return 'Manufacturing and production'\n",
    "    elif str(number).startswith('1053'):\n",
    "        return 'Airports'\n",
    "    elif str(number).startswith(('1057', '1059')):\n",
    "        return 'Public transport'\n",
    "    elif str(number).startswith(('1054', '1055')):\n",
    "        return 'Road and rail'\n",
    "    elif str(number).startswith('1056'):\n",
    "        return 'Water transport'\n",
    "    else:\n",
    "        return 'Other'\n",
    "\n",
    "df['poi_class'] = df['pointx_class'].apply(match_poi_class)\n"
   ]
  },
  {
   "cell_type": "code",
   "execution_count": 3,
   "metadata": {},
   "outputs": [
    {
     "data": {
      "text/plain": [
       "poi_class\n",
       "Service                          123520\n",
       "Eating and drinking               56356\n",
       "Infrastructure and facilities     49504\n",
       "Shopping                          26741\n",
       "Public transport                  25219\n",
       "Health                            17907\n",
       "Manufacturing and production      15606\n",
       "Entertainment                     12776\n",
       "Education                         12335\n",
       "Road and rail                     12310\n",
       "Culture and tourism               11101\n",
       "Office                             7704\n",
       "Water transport                    2441\n",
       "Accommodation                      1926\n",
       "Airports                             38\n",
       "Name: count, dtype: int64"
      ]
     },
     "execution_count": 3,
     "metadata": {},
     "output_type": "execute_result"
    }
   ],
   "source": [
    "count_by_poi_class = df['poi_class'].value_counts()\n",
    "count_by_poi_class\n"
   ]
  },
  {
   "cell_type": "code",
   "execution_count": 4,
   "metadata": {},
   "outputs": [
    {
     "data": {
      "text/plain": [
       "array([], dtype=float64)"
      ]
     },
     "execution_count": 4,
     "metadata": {},
     "output_type": "execute_result"
    }
   ],
   "source": [
    "other_class = df[df['poi_class']=='Other']\n",
    "other_class['pointx_class'].unique()"
   ]
  },
  {
   "cell_type": "code",
   "execution_count": 48,
   "metadata": {},
   "outputs": [
    {
     "data": {
      "text/html": [
       "<div>\n",
       "<style scoped>\n",
       "    .dataframe tbody tr th:only-of-type {\n",
       "        vertical-align: middle;\n",
       "    }\n",
       "\n",
       "    .dataframe tbody tr th {\n",
       "        vertical-align: top;\n",
       "    }\n",
       "\n",
       "    .dataframe thead th {\n",
       "        text-align: right;\n",
       "    }\n",
       "</style>\n",
       "<table border=\"1\" class=\"dataframe\">\n",
       "  <thead>\n",
       "    <tr style=\"text-align: right;\">\n",
       "      <th></th>\n",
       "      <th>name</th>\n",
       "      <th>pointx_class</th>\n",
       "      <th>latitude</th>\n",
       "      <th>longitude</th>\n",
       "      <th>poi_class</th>\n",
       "    </tr>\n",
       "  </thead>\n",
       "  <tbody>\n",
       "  </tbody>\n",
       "</table>\n",
       "</div>"
      ],
      "text/plain": [
       "Empty DataFrame\n",
       "Columns: [name, pointx_class, latitude, longitude, poi_class]\n",
       "Index: []"
      ]
     },
     "execution_count": 48,
     "metadata": {},
     "output_type": "execute_result"
    }
   ],
   "source": [
    "other_class"
   ]
  },
  {
   "cell_type": "code",
   "execution_count": 5,
   "metadata": {},
   "outputs": [
    {
     "data": {
      "text/plain": [
       "15"
      ]
     },
     "execution_count": 5,
     "metadata": {},
     "output_type": "execute_result"
    }
   ],
   "source": [
    "poi_class_unique = df['poi_class'].unique()\n",
    "poi_class_unique.size"
   ]
  },
  {
   "cell_type": "markdown",
   "metadata": {},
   "source": [
    "为了将'poi_class'列中的属性拆分成新的列，并且如果该行中'poi_class'列的属性与新列名一致，则将相应的列中的值设为1，否则设为0"
   ]
  },
  {
   "cell_type": "code",
   "execution_count": 6,
   "metadata": {},
   "outputs": [
    {
     "ename": "KeyboardInterrupt",
     "evalue": "",
     "output_type": "error",
     "traceback": [
      "\u001b[1;31m---------------------------------------------------------------------------\u001b[0m",
      "\u001b[1;31mKeyboardInterrupt\u001b[0m                         Traceback (most recent call last)",
      "Cell \u001b[1;32mIn[6], line 5\u001b[0m\n\u001b[0;32m      2\u001b[0m df \u001b[39m=\u001b[39m pd\u001b[39m.\u001b[39mconcat([df, dummies], axis\u001b[39m=\u001b[39m\u001b[39m1\u001b[39m)\n\u001b[0;32m      4\u001b[0m \u001b[39mfor\u001b[39;00m column \u001b[39min\u001b[39;00m dummies\u001b[39m.\u001b[39mcolumns:\n\u001b[1;32m----> 5\u001b[0m     df[column] \u001b[39m=\u001b[39m df\u001b[39m.\u001b[39;49mapply(\u001b[39mlambda\u001b[39;49;00m row: \u001b[39m1\u001b[39;49m \u001b[39mif\u001b[39;49;00m row[\u001b[39m'\u001b[39;49m\u001b[39mpoi_class\u001b[39;49m\u001b[39m'\u001b[39;49m] \u001b[39m==\u001b[39;49m column \u001b[39melse\u001b[39;49;00m \u001b[39m0\u001b[39;49m, axis\u001b[39m=\u001b[39;49m\u001b[39m1\u001b[39;49m)\n\u001b[0;32m      9\u001b[0m df\n",
      "File \u001b[1;32md:\\programs\\anaconda3\\lib\\site-packages\\pandas\\core\\frame.py:9423\u001b[0m, in \u001b[0;36mDataFrame.apply\u001b[1;34m(self, func, axis, raw, result_type, args, **kwargs)\u001b[0m\n\u001b[0;32m   9412\u001b[0m \u001b[39mfrom\u001b[39;00m \u001b[39mpandas\u001b[39;00m\u001b[39m.\u001b[39;00m\u001b[39mcore\u001b[39;00m\u001b[39m.\u001b[39;00m\u001b[39mapply\u001b[39;00m \u001b[39mimport\u001b[39;00m frame_apply\n\u001b[0;32m   9414\u001b[0m op \u001b[39m=\u001b[39m frame_apply(\n\u001b[0;32m   9415\u001b[0m     \u001b[39mself\u001b[39m,\n\u001b[0;32m   9416\u001b[0m     func\u001b[39m=\u001b[39mfunc,\n\u001b[1;32m   (...)\u001b[0m\n\u001b[0;32m   9421\u001b[0m     kwargs\u001b[39m=\u001b[39mkwargs,\n\u001b[0;32m   9422\u001b[0m )\n\u001b[1;32m-> 9423\u001b[0m \u001b[39mreturn\u001b[39;00m op\u001b[39m.\u001b[39;49mapply()\u001b[39m.\u001b[39m__finalize__(\u001b[39mself\u001b[39m, method\u001b[39m=\u001b[39m\u001b[39m\"\u001b[39m\u001b[39mapply\u001b[39m\u001b[39m\"\u001b[39m)\n",
      "File \u001b[1;32md:\\programs\\anaconda3\\lib\\site-packages\\pandas\\core\\apply.py:678\u001b[0m, in \u001b[0;36mFrameApply.apply\u001b[1;34m(self)\u001b[0m\n\u001b[0;32m    675\u001b[0m \u001b[39melif\u001b[39;00m \u001b[39mself\u001b[39m\u001b[39m.\u001b[39mraw:\n\u001b[0;32m    676\u001b[0m     \u001b[39mreturn\u001b[39;00m \u001b[39mself\u001b[39m\u001b[39m.\u001b[39mapply_raw()\n\u001b[1;32m--> 678\u001b[0m \u001b[39mreturn\u001b[39;00m \u001b[39mself\u001b[39;49m\u001b[39m.\u001b[39;49mapply_standard()\n",
      "File \u001b[1;32md:\\programs\\anaconda3\\lib\\site-packages\\pandas\\core\\apply.py:798\u001b[0m, in \u001b[0;36mFrameApply.apply_standard\u001b[1;34m(self)\u001b[0m\n\u001b[0;32m    797\u001b[0m \u001b[39mdef\u001b[39;00m \u001b[39mapply_standard\u001b[39m(\u001b[39mself\u001b[39m):\n\u001b[1;32m--> 798\u001b[0m     results, res_index \u001b[39m=\u001b[39m \u001b[39mself\u001b[39;49m\u001b[39m.\u001b[39;49mapply_series_generator()\n\u001b[0;32m    800\u001b[0m     \u001b[39m# wrap results\u001b[39;00m\n\u001b[0;32m    801\u001b[0m     \u001b[39mreturn\u001b[39;00m \u001b[39mself\u001b[39m\u001b[39m.\u001b[39mwrap_results(results, res_index)\n",
      "File \u001b[1;32md:\\programs\\anaconda3\\lib\\site-packages\\pandas\\core\\apply.py:814\u001b[0m, in \u001b[0;36mFrameApply.apply_series_generator\u001b[1;34m(self)\u001b[0m\n\u001b[0;32m    811\u001b[0m \u001b[39mwith\u001b[39;00m option_context(\u001b[39m\"\u001b[39m\u001b[39mmode.chained_assignment\u001b[39m\u001b[39m\"\u001b[39m, \u001b[39mNone\u001b[39;00m):\n\u001b[0;32m    812\u001b[0m     \u001b[39mfor\u001b[39;00m i, v \u001b[39min\u001b[39;00m \u001b[39menumerate\u001b[39m(series_gen):\n\u001b[0;32m    813\u001b[0m         \u001b[39m# ignore SettingWithCopy here in case the user mutates\u001b[39;00m\n\u001b[1;32m--> 814\u001b[0m         results[i] \u001b[39m=\u001b[39m \u001b[39mself\u001b[39;49m\u001b[39m.\u001b[39;49mf(v)\n\u001b[0;32m    815\u001b[0m         \u001b[39mif\u001b[39;00m \u001b[39misinstance\u001b[39m(results[i], ABCSeries):\n\u001b[0;32m    816\u001b[0m             \u001b[39m# If we have a view on v, we need to make a copy because\u001b[39;00m\n\u001b[0;32m    817\u001b[0m             \u001b[39m#  series_generator will swap out the underlying data\u001b[39;00m\n\u001b[0;32m    818\u001b[0m             results[i] \u001b[39m=\u001b[39m results[i]\u001b[39m.\u001b[39mcopy(deep\u001b[39m=\u001b[39m\u001b[39mFalse\u001b[39;00m)\n",
      "Cell \u001b[1;32mIn[6], line 5\u001b[0m, in \u001b[0;36m<lambda>\u001b[1;34m(row)\u001b[0m\n\u001b[0;32m      2\u001b[0m df \u001b[39m=\u001b[39m pd\u001b[39m.\u001b[39mconcat([df, dummies], axis\u001b[39m=\u001b[39m\u001b[39m1\u001b[39m)\n\u001b[0;32m      4\u001b[0m \u001b[39mfor\u001b[39;00m column \u001b[39min\u001b[39;00m dummies\u001b[39m.\u001b[39mcolumns:\n\u001b[1;32m----> 5\u001b[0m     df[column] \u001b[39m=\u001b[39m df\u001b[39m.\u001b[39mapply(\u001b[39mlambda\u001b[39;00m row: \u001b[39m1\u001b[39m \u001b[39mif\u001b[39;00m row[\u001b[39m'\u001b[39;49m\u001b[39mpoi_class\u001b[39;49m\u001b[39m'\u001b[39;49m] \u001b[39m==\u001b[39m column \u001b[39melse\u001b[39;00m \u001b[39m0\u001b[39m, axis\u001b[39m=\u001b[39m\u001b[39m1\u001b[39m)\n\u001b[0;32m      9\u001b[0m df\n",
      "File \u001b[1;32md:\\programs\\anaconda3\\lib\\site-packages\\pandas\\core\\series.py:1007\u001b[0m, in \u001b[0;36mSeries.__getitem__\u001b[1;34m(self, key)\u001b[0m\n\u001b[0;32m   1004\u001b[0m     \u001b[39mreturn\u001b[39;00m \u001b[39mself\u001b[39m\u001b[39m.\u001b[39m_values[key]\n\u001b[0;32m   1006\u001b[0m \u001b[39melif\u001b[39;00m key_is_scalar:\n\u001b[1;32m-> 1007\u001b[0m     \u001b[39mreturn\u001b[39;00m \u001b[39mself\u001b[39;49m\u001b[39m.\u001b[39;49m_get_value(key)\n\u001b[0;32m   1009\u001b[0m \u001b[39mif\u001b[39;00m is_hashable(key):\n\u001b[0;32m   1010\u001b[0m     \u001b[39m# Otherwise index.get_value will raise InvalidIndexError\u001b[39;00m\n\u001b[0;32m   1011\u001b[0m     \u001b[39mtry\u001b[39;00m:\n\u001b[0;32m   1012\u001b[0m         \u001b[39m# For labels that don't resolve as scalars like tuples and frozensets\u001b[39;00m\n",
      "File \u001b[1;32md:\\programs\\anaconda3\\lib\\site-packages\\pandas\\core\\series.py:1116\u001b[0m, in \u001b[0;36mSeries._get_value\u001b[1;34m(self, label, takeable)\u001b[0m\n\u001b[0;32m   1113\u001b[0m     \u001b[39mreturn\u001b[39;00m \u001b[39mself\u001b[39m\u001b[39m.\u001b[39m_values[label]\n\u001b[0;32m   1115\u001b[0m \u001b[39m# Similar to Index.get_value, but we do not fall back to positional\u001b[39;00m\n\u001b[1;32m-> 1116\u001b[0m loc \u001b[39m=\u001b[39m \u001b[39mself\u001b[39;49m\u001b[39m.\u001b[39;49mindex\u001b[39m.\u001b[39;49mget_loc(label)\n\u001b[0;32m   1118\u001b[0m \u001b[39mif\u001b[39;00m is_integer(loc):\n\u001b[0;32m   1119\u001b[0m     \u001b[39mreturn\u001b[39;00m \u001b[39mself\u001b[39m\u001b[39m.\u001b[39m_values[loc]\n",
      "File \u001b[1;32md:\\programs\\anaconda3\\lib\\site-packages\\pandas\\core\\indexes\\base.py:3652\u001b[0m, in \u001b[0;36mIndex.get_loc\u001b[1;34m(self, key)\u001b[0m\n\u001b[0;32m   3650\u001b[0m casted_key \u001b[39m=\u001b[39m \u001b[39mself\u001b[39m\u001b[39m.\u001b[39m_maybe_cast_indexer(key)\n\u001b[0;32m   3651\u001b[0m \u001b[39mtry\u001b[39;00m:\n\u001b[1;32m-> 3652\u001b[0m     \u001b[39mreturn\u001b[39;00m \u001b[39mself\u001b[39m\u001b[39m.\u001b[39m_engine\u001b[39m.\u001b[39mget_loc(casted_key)\n\u001b[0;32m   3653\u001b[0m \u001b[39mexcept\u001b[39;00m \u001b[39mKeyError\u001b[39;00m \u001b[39mas\u001b[39;00m err:\n\u001b[0;32m   3654\u001b[0m     \u001b[39mraise\u001b[39;00m \u001b[39mKeyError\u001b[39;00m(key) \u001b[39mfrom\u001b[39;00m \u001b[39merr\u001b[39;00m\n",
      "\u001b[1;31mKeyboardInterrupt\u001b[0m: "
     ]
    }
   ],
   "source": [
    "dummies = pd.get_dummies(df['poi_class'])\n",
    "df = pd.concat([df, dummies], axis=1)\n",
    "\n",
    "for column in dummies.columns:\n",
    "    df[column] = df.apply(lambda row: 1 if row['poi_class'] == column else 0, axis=1)\n",
    "\n",
    "\n",
    "\n",
    "df"
   ]
  },
  {
   "cell_type": "code",
   "execution_count": 55,
   "metadata": {},
   "outputs": [
    {
     "data": {
      "text/plain": [
       "Index(['name', 'pointx_class', 'latitude', 'longitude', 'poi_class',\n",
       "       'Accommodation', 'Airports', 'Culture and tourism',\n",
       "       'Eating and drinking', 'Education', 'Entertainment', 'Health',\n",
       "       'Infrastructure and facilities', 'Manufacturing and production',\n",
       "       'Office', 'Public transport', 'Road and rail', 'Service', 'Shopping',\n",
       "       'Water transport'],\n",
       "      dtype='object')"
      ]
     },
     "execution_count": 55,
     "metadata": {},
     "output_type": "execute_result"
    }
   ],
   "source": [
    "df_col = df.columns\n",
    "df_col"
   ]
  },
  {
   "cell_type": "code",
   "execution_count": null,
   "metadata": {},
   "outputs": [],
   "source": [
    "df = df.rename(columns={'latitude': 'lat'})\n",
    "df = df.rename(columns={'longitude': 'lon'})"
   ]
  },
  {
   "cell_type": "code",
   "execution_count": 56,
   "metadata": {},
   "outputs": [],
   "source": [
    "df.to_csv(r\"D:\\POI data\\poi_cleaned_data\\poi_has_classes.csv\", index=False)"
   ]
  }
 ],
 "metadata": {
  "kernelspec": {
   "display_name": "base",
   "language": "python",
   "name": "python3"
  },
  "language_info": {
   "codemirror_mode": {
    "name": "ipython",
    "version": 3
   },
   "file_extension": ".py",
   "mimetype": "text/x-python",
   "name": "python",
   "nbconvert_exporter": "python",
   "pygments_lexer": "ipython3",
   "version": "3.8.17"
  },
  "orig_nbformat": 4
 },
 "nbformat": 4,
 "nbformat_minor": 2
}
